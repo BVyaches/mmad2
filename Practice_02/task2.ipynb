{
 "cells": [
  {
   "cell_type": "code",
   "execution_count": 63,
   "id": "initial_id",
   "metadata": {
    "collapsed": true,
    "ExecuteTime": {
     "end_time": "2024-09-26T15:06:33.789045600Z",
     "start_time": "2024-09-26T15:06:33.619494900Z"
    }
   },
   "outputs": [],
   "source": [
    "import pandas as pd\n",
    "import numpy as np\n",
    "import plotly.express as px\n",
    "import plotly.graph_objects as go\n",
    "import matplotlib.pyplot as plt\n",
    "import seaborn as sns\n",
    "from sklearn.model_selection import train_test_split\n"
   ]
  },
  {
   "cell_type": "code",
   "outputs": [
    {
     "data": {
      "text/plain": "     fixed acidity  volatile acidity  citric acid  residual sugar  chlorides  \\\n283           12.0             0.390         0.66             3.0      0.093   \n67             6.8             0.775         0.00             3.0      0.102   \n188           12.5             0.560         0.49             2.4      0.064   \n403            7.6             0.290         0.49             2.7      0.092   \n760            7.9             0.300         0.68             8.3      0.050   \n\n     free sulfur dioxide  total sulfur dioxide  density    pH  sulphates  \\\n283                 12.0                  30.0  0.99960  3.18       0.63   \n67                   8.0                  23.0  0.99650  3.45       0.56   \n188                  5.0                  27.0  0.99990  3.08       0.87   \n403                 25.0                  60.0  0.99710  3.31       0.61   \n760                 37.5                 278.0  0.99316  3.01       0.51   \n\n     alcohol  quality    Id  \n283     10.8        7   407  \n67      10.7        5    96  \n188     10.9        5   264  \n403     10.1        6   563  \n760     12.3        7  1079  ",
      "text/html": "<div>\n<style scoped>\n    .dataframe tbody tr th:only-of-type {\n        vertical-align: middle;\n    }\n\n    .dataframe tbody tr th {\n        vertical-align: top;\n    }\n\n    .dataframe thead th {\n        text-align: right;\n    }\n</style>\n<table border=\"1\" class=\"dataframe\">\n  <thead>\n    <tr style=\"text-align: right;\">\n      <th></th>\n      <th>fixed acidity</th>\n      <th>volatile acidity</th>\n      <th>citric acid</th>\n      <th>residual sugar</th>\n      <th>chlorides</th>\n      <th>free sulfur dioxide</th>\n      <th>total sulfur dioxide</th>\n      <th>density</th>\n      <th>pH</th>\n      <th>sulphates</th>\n      <th>alcohol</th>\n      <th>quality</th>\n      <th>Id</th>\n    </tr>\n  </thead>\n  <tbody>\n    <tr>\n      <th>283</th>\n      <td>12.0</td>\n      <td>0.390</td>\n      <td>0.66</td>\n      <td>3.0</td>\n      <td>0.093</td>\n      <td>12.0</td>\n      <td>30.0</td>\n      <td>0.99960</td>\n      <td>3.18</td>\n      <td>0.63</td>\n      <td>10.8</td>\n      <td>7</td>\n      <td>407</td>\n    </tr>\n    <tr>\n      <th>67</th>\n      <td>6.8</td>\n      <td>0.775</td>\n      <td>0.00</td>\n      <td>3.0</td>\n      <td>0.102</td>\n      <td>8.0</td>\n      <td>23.0</td>\n      <td>0.99650</td>\n      <td>3.45</td>\n      <td>0.56</td>\n      <td>10.7</td>\n      <td>5</td>\n      <td>96</td>\n    </tr>\n    <tr>\n      <th>188</th>\n      <td>12.5</td>\n      <td>0.560</td>\n      <td>0.49</td>\n      <td>2.4</td>\n      <td>0.064</td>\n      <td>5.0</td>\n      <td>27.0</td>\n      <td>0.99990</td>\n      <td>3.08</td>\n      <td>0.87</td>\n      <td>10.9</td>\n      <td>5</td>\n      <td>264</td>\n    </tr>\n    <tr>\n      <th>403</th>\n      <td>7.6</td>\n      <td>0.290</td>\n      <td>0.49</td>\n      <td>2.7</td>\n      <td>0.092</td>\n      <td>25.0</td>\n      <td>60.0</td>\n      <td>0.99710</td>\n      <td>3.31</td>\n      <td>0.61</td>\n      <td>10.1</td>\n      <td>6</td>\n      <td>563</td>\n    </tr>\n    <tr>\n      <th>760</th>\n      <td>7.9</td>\n      <td>0.300</td>\n      <td>0.68</td>\n      <td>8.3</td>\n      <td>0.050</td>\n      <td>37.5</td>\n      <td>278.0</td>\n      <td>0.99316</td>\n      <td>3.01</td>\n      <td>0.51</td>\n      <td>12.3</td>\n      <td>7</td>\n      <td>1079</td>\n    </tr>\n  </tbody>\n</table>\n</div>"
     },
     "execution_count": 64,
     "metadata": {},
     "output_type": "execute_result"
    }
   ],
   "source": [
    "data = pd.read_csv('WineQT.csv')\n",
    "data.sample(5)"
   ],
   "metadata": {
    "collapsed": false,
    "ExecuteTime": {
     "end_time": "2024-09-26T15:06:33.873041800Z",
     "start_time": "2024-09-26T15:06:33.791039800Z"
    }
   },
   "id": "33f4d0888e3b0e23",
   "execution_count": 64
  },
  {
   "cell_type": "code",
   "outputs": [
    {
     "data": {
      "text/plain": "       fixed acidity  volatile acidity  citric acid  residual sugar  \\\ncount    1143.000000       1143.000000  1143.000000     1143.000000   \nmean        8.311111          0.531339     0.268364        2.532152   \nstd         1.747595          0.179633     0.196686        1.355917   \nmin         4.600000          0.120000     0.000000        0.900000   \n25%         7.100000          0.392500     0.090000        1.900000   \n50%         7.900000          0.520000     0.250000        2.200000   \n75%         9.100000          0.640000     0.420000        2.600000   \nmax        15.900000          1.580000     1.000000       15.500000   \n\n         chlorides  free sulfur dioxide  total sulfur dioxide      density  \\\ncount  1143.000000          1143.000000           1143.000000  1143.000000   \nmean      0.086933            15.615486             45.914698     0.996730   \nstd       0.047267            10.250486             32.782130     0.001925   \nmin       0.012000             1.000000              6.000000     0.990070   \n25%       0.070000             7.000000             21.000000     0.995570   \n50%       0.079000            13.000000             37.000000     0.996680   \n75%       0.090000            21.000000             61.000000     0.997845   \nmax       0.611000            68.000000            289.000000     1.003690   \n\n                pH    sulphates      alcohol      quality  \ncount  1143.000000  1143.000000  1143.000000  1143.000000  \nmean      3.311015     0.657708    10.442111     5.657043  \nstd       0.156664     0.170399     1.082196     0.805824  \nmin       2.740000     0.330000     8.400000     3.000000  \n25%       3.205000     0.550000     9.500000     5.000000  \n50%       3.310000     0.620000    10.200000     6.000000  \n75%       3.400000     0.730000    11.100000     6.000000  \nmax       4.010000     2.000000    14.900000     8.000000  ",
      "text/html": "<div>\n<style scoped>\n    .dataframe tbody tr th:only-of-type {\n        vertical-align: middle;\n    }\n\n    .dataframe tbody tr th {\n        vertical-align: top;\n    }\n\n    .dataframe thead th {\n        text-align: right;\n    }\n</style>\n<table border=\"1\" class=\"dataframe\">\n  <thead>\n    <tr style=\"text-align: right;\">\n      <th></th>\n      <th>fixed acidity</th>\n      <th>volatile acidity</th>\n      <th>citric acid</th>\n      <th>residual sugar</th>\n      <th>chlorides</th>\n      <th>free sulfur dioxide</th>\n      <th>total sulfur dioxide</th>\n      <th>density</th>\n      <th>pH</th>\n      <th>sulphates</th>\n      <th>alcohol</th>\n      <th>quality</th>\n    </tr>\n  </thead>\n  <tbody>\n    <tr>\n      <th>count</th>\n      <td>1143.000000</td>\n      <td>1143.000000</td>\n      <td>1143.000000</td>\n      <td>1143.000000</td>\n      <td>1143.000000</td>\n      <td>1143.000000</td>\n      <td>1143.000000</td>\n      <td>1143.000000</td>\n      <td>1143.000000</td>\n      <td>1143.000000</td>\n      <td>1143.000000</td>\n      <td>1143.000000</td>\n    </tr>\n    <tr>\n      <th>mean</th>\n      <td>8.311111</td>\n      <td>0.531339</td>\n      <td>0.268364</td>\n      <td>2.532152</td>\n      <td>0.086933</td>\n      <td>15.615486</td>\n      <td>45.914698</td>\n      <td>0.996730</td>\n      <td>3.311015</td>\n      <td>0.657708</td>\n      <td>10.442111</td>\n      <td>5.657043</td>\n    </tr>\n    <tr>\n      <th>std</th>\n      <td>1.747595</td>\n      <td>0.179633</td>\n      <td>0.196686</td>\n      <td>1.355917</td>\n      <td>0.047267</td>\n      <td>10.250486</td>\n      <td>32.782130</td>\n      <td>0.001925</td>\n      <td>0.156664</td>\n      <td>0.170399</td>\n      <td>1.082196</td>\n      <td>0.805824</td>\n    </tr>\n    <tr>\n      <th>min</th>\n      <td>4.600000</td>\n      <td>0.120000</td>\n      <td>0.000000</td>\n      <td>0.900000</td>\n      <td>0.012000</td>\n      <td>1.000000</td>\n      <td>6.000000</td>\n      <td>0.990070</td>\n      <td>2.740000</td>\n      <td>0.330000</td>\n      <td>8.400000</td>\n      <td>3.000000</td>\n    </tr>\n    <tr>\n      <th>25%</th>\n      <td>7.100000</td>\n      <td>0.392500</td>\n      <td>0.090000</td>\n      <td>1.900000</td>\n      <td>0.070000</td>\n      <td>7.000000</td>\n      <td>21.000000</td>\n      <td>0.995570</td>\n      <td>3.205000</td>\n      <td>0.550000</td>\n      <td>9.500000</td>\n      <td>5.000000</td>\n    </tr>\n    <tr>\n      <th>50%</th>\n      <td>7.900000</td>\n      <td>0.520000</td>\n      <td>0.250000</td>\n      <td>2.200000</td>\n      <td>0.079000</td>\n      <td>13.000000</td>\n      <td>37.000000</td>\n      <td>0.996680</td>\n      <td>3.310000</td>\n      <td>0.620000</td>\n      <td>10.200000</td>\n      <td>6.000000</td>\n    </tr>\n    <tr>\n      <th>75%</th>\n      <td>9.100000</td>\n      <td>0.640000</td>\n      <td>0.420000</td>\n      <td>2.600000</td>\n      <td>0.090000</td>\n      <td>21.000000</td>\n      <td>61.000000</td>\n      <td>0.997845</td>\n      <td>3.400000</td>\n      <td>0.730000</td>\n      <td>11.100000</td>\n      <td>6.000000</td>\n    </tr>\n    <tr>\n      <th>max</th>\n      <td>15.900000</td>\n      <td>1.580000</td>\n      <td>1.000000</td>\n      <td>15.500000</td>\n      <td>0.611000</td>\n      <td>68.000000</td>\n      <td>289.000000</td>\n      <td>1.003690</td>\n      <td>4.010000</td>\n      <td>2.000000</td>\n      <td>14.900000</td>\n      <td>8.000000</td>\n    </tr>\n  </tbody>\n</table>\n</div>"
     },
     "execution_count": 65,
     "metadata": {},
     "output_type": "execute_result"
    }
   ],
   "source": [
    "data = data.drop(columns=['Id'])\n",
    "data.describe()"
   ],
   "metadata": {
    "collapsed": false,
    "ExecuteTime": {
     "end_time": "2024-09-26T15:06:33.986910100Z",
     "start_time": "2024-09-26T15:06:33.873041800Z"
    }
   },
   "id": "ce9f67b858add3ba",
   "execution_count": 65
  },
  {
   "cell_type": "code",
   "outputs": [],
   "source": [
    "\n",
    "\n",
    "np.random.seed(113)\n",
    "X_train, X_test, y_train, y_test = train_test_split(data.drop(columns=['quality']), data['quality'], test_size=0.3,\n",
    "                                                    stratify=data['quality'])"
   ],
   "metadata": {
    "collapsed": false,
    "ExecuteTime": {
     "end_time": "2024-09-26T15:06:34.050882800Z",
     "start_time": "2024-09-26T15:06:33.909942600Z"
    }
   },
   "id": "d2fc173591ec60be",
   "execution_count": 66
  },
  {
   "cell_type": "code",
   "outputs": [
    {
     "data": {
      "application/vnd.plotly.v1+json": {
       "data": [
        {
         "x": [
          5,
          6,
          5,
          6,
          6,
          6,
          5,
          6,
          5,
          5,
          7,
          6,
          5,
          7,
          6,
          5,
          7,
          7,
          7,
          4,
          5,
          6,
          5,
          5,
          6,
          5,
          5,
          5,
          5,
          4,
          7,
          7,
          5,
          7,
          5,
          5,
          5,
          6,
          5,
          6,
          4,
          6,
          5,
          5,
          7,
          6,
          6,
          6,
          6,
          6,
          4,
          5,
          5,
          5,
          5,
          6,
          5,
          6,
          5,
          7,
          7,
          5,
          6,
          6,
          5,
          5,
          5,
          5,
          5,
          6,
          6,
          6,
          5,
          5,
          5,
          5,
          5,
          5,
          5,
          6,
          6,
          5,
          5,
          5,
          6,
          6,
          6,
          6,
          6,
          5,
          6,
          6,
          6,
          5,
          5,
          6,
          7,
          5,
          7,
          5,
          7,
          5,
          7,
          5,
          6,
          7,
          6,
          6,
          5,
          5,
          5,
          4,
          5,
          5,
          5,
          5,
          5,
          6,
          5,
          5,
          5,
          5,
          5,
          7,
          5,
          6,
          5,
          6,
          5,
          5,
          6,
          6,
          7,
          6,
          6,
          7,
          5,
          5,
          5,
          6,
          5,
          5,
          5,
          6,
          7,
          6,
          5,
          5,
          6,
          6,
          6,
          6,
          6,
          6,
          7,
          7,
          6,
          5,
          5,
          5,
          8,
          5,
          7,
          6,
          6,
          5,
          5,
          6,
          6,
          5,
          5,
          7,
          5,
          5,
          5,
          5,
          5,
          5,
          5,
          7,
          6,
          6,
          7,
          6,
          5,
          5,
          6,
          7,
          7,
          5,
          6,
          6,
          5,
          5,
          5,
          5,
          5,
          6,
          5,
          5,
          5,
          6,
          4,
          8,
          5,
          5,
          3,
          6,
          6,
          7,
          6,
          5,
          6,
          6,
          6,
          6,
          5,
          7,
          6,
          7,
          6,
          6,
          7,
          6,
          5,
          7,
          7,
          6,
          7,
          5,
          6,
          6,
          5,
          5,
          5,
          6,
          6,
          7,
          6,
          6,
          5,
          7,
          5,
          7,
          6,
          6,
          7,
          6,
          6,
          5,
          6,
          7,
          6,
          5,
          6,
          5,
          5,
          6,
          6,
          5,
          6,
          6,
          5,
          6,
          5,
          6,
          5,
          5,
          5,
          6,
          5,
          6,
          6,
          5,
          5,
          5,
          6,
          7,
          5,
          6,
          6,
          6,
          7,
          5,
          5,
          5,
          6,
          6,
          5,
          6,
          6,
          5,
          7,
          6,
          5,
          8,
          7,
          4,
          6,
          5,
          6,
          6,
          6,
          5,
          5,
          5,
          7,
          5,
          5,
          6,
          5,
          6,
          6,
          6,
          6,
          6,
          6,
          6,
          6,
          6,
          5,
          5,
          6,
          6,
          5,
          6,
          5,
          6,
          6,
          5,
          6,
          7,
          4,
          5,
          7,
          5,
          5,
          5,
          5,
          6,
          5,
          5,
          6,
          5,
          6,
          6,
          5,
          8,
          7,
          6,
          6,
          7,
          4,
          6,
          6,
          6,
          5,
          6,
          5,
          7,
          6,
          7,
          6,
          6,
          6,
          5,
          8,
          6,
          6,
          6,
          5,
          5,
          6,
          7,
          6,
          6,
          5,
          6,
          8,
          5,
          5,
          7,
          5,
          6,
          7,
          5,
          7,
          6,
          6,
          6,
          7,
          7,
          5,
          5,
          5,
          6,
          7,
          6,
          6,
          6,
          7,
          5,
          6,
          6,
          4,
          5,
          7,
          6,
          6,
          6,
          6,
          4,
          7,
          4,
          5,
          4,
          5,
          5,
          5,
          5,
          7,
          6,
          6,
          5,
          5,
          6,
          6,
          6,
          5,
          5,
          6,
          6,
          5,
          5,
          6,
          6,
          6,
          6,
          6,
          5,
          6,
          5,
          5,
          6,
          7,
          5,
          5,
          7,
          5,
          5,
          5,
          5,
          5,
          5,
          5,
          5,
          6,
          6,
          6,
          5,
          7,
          6,
          6,
          6,
          5,
          5,
          6,
          6,
          6,
          4,
          5,
          7,
          5,
          5,
          6,
          5,
          5,
          6,
          5,
          6,
          5,
          6,
          7,
          6,
          6,
          6,
          6,
          5,
          6,
          5,
          6,
          5,
          6,
          6,
          6,
          6,
          6,
          5,
          5,
          6,
          5,
          6,
          3,
          5,
          5,
          6,
          5,
          7,
          5,
          5,
          5,
          5,
          6,
          7,
          6,
          5,
          5,
          4,
          6,
          6,
          5,
          6,
          6,
          6,
          6,
          6,
          6,
          5,
          7,
          6,
          6,
          6,
          7,
          6,
          6,
          6,
          4,
          5,
          6,
          5,
          5,
          5,
          5,
          7,
          5,
          5,
          5,
          5,
          5,
          5,
          4,
          5,
          6,
          7,
          6,
          4,
          5,
          6,
          6,
          6,
          5,
          6,
          6,
          5,
          6,
          5,
          5,
          6,
          5,
          5,
          5,
          5,
          6,
          5,
          6,
          6,
          5,
          6,
          6,
          7,
          7,
          6,
          6,
          6,
          5,
          6,
          8,
          7,
          6,
          5,
          5,
          5,
          5,
          7,
          6,
          7,
          6,
          5,
          6,
          7,
          5,
          6,
          5,
          6,
          5,
          6,
          5,
          5,
          5,
          6,
          5,
          6,
          7,
          5,
          6,
          6,
          5,
          5,
          5,
          7,
          7,
          6,
          5,
          5,
          6,
          6,
          5,
          5,
          5,
          6,
          6,
          6,
          7,
          6,
          6,
          5,
          5,
          6,
          6,
          7,
          6,
          4,
          5,
          6,
          6,
          5,
          7,
          4,
          5,
          6,
          6,
          5,
          3,
          5,
          5,
          3,
          5,
          5,
          6,
          6,
          6,
          6,
          5,
          5,
          5,
          6,
          5,
          5,
          5,
          6,
          6,
          5,
          6,
          6,
          5,
          5,
          6,
          5,
          6,
          6,
          5,
          5,
          6,
          5,
          6,
          4,
          6,
          8,
          4,
          6,
          7,
          6,
          5,
          7,
          5,
          5,
          5,
          6,
          5,
          8,
          5,
          7,
          5,
          6,
          7,
          4,
          6,
          5,
          6,
          7,
          6,
          6,
          5,
          5,
          6,
          6,
          6,
          5,
          5,
          7,
          5,
          5,
          5,
          6,
          6,
          5,
          5,
          6,
          5,
          5,
          5,
          5,
          6,
          5,
          6,
          6,
          7,
          6,
          6,
          5,
          5,
          5,
          6,
          5,
          7,
          6,
          7,
          6,
          6,
          6,
          5,
          6,
          5,
          5,
          6,
          6,
          5,
          5,
          6,
          6,
          5,
          6,
          7,
          6,
          5,
          7,
          6,
          6,
          5,
          5,
          6,
          6,
          5,
          5,
          7,
          7,
          6,
          5,
          5,
          8,
          5,
          6,
          7,
          5,
          5,
          6,
          6,
          5,
          5,
          6,
          5,
          5,
          5,
          6,
          5,
          5,
          8,
          5,
          6,
          7
         ],
         "xbins": {
          "size": 1
         },
         "type": "histogram"
        }
       ],
       "layout": {
        "template": {
         "data": {
          "histogram2dcontour": [
           {
            "type": "histogram2dcontour",
            "colorbar": {
             "outlinewidth": 0,
             "ticks": ""
            },
            "colorscale": [
             [
              0.0,
              "#0d0887"
             ],
             [
              0.1111111111111111,
              "#46039f"
             ],
             [
              0.2222222222222222,
              "#7201a8"
             ],
             [
              0.3333333333333333,
              "#9c179e"
             ],
             [
              0.4444444444444444,
              "#bd3786"
             ],
             [
              0.5555555555555556,
              "#d8576b"
             ],
             [
              0.6666666666666666,
              "#ed7953"
             ],
             [
              0.7777777777777778,
              "#fb9f3a"
             ],
             [
              0.8888888888888888,
              "#fdca26"
             ],
             [
              1.0,
              "#f0f921"
             ]
            ]
           }
          ],
          "choropleth": [
           {
            "type": "choropleth",
            "colorbar": {
             "outlinewidth": 0,
             "ticks": ""
            }
           }
          ],
          "histogram2d": [
           {
            "type": "histogram2d",
            "colorbar": {
             "outlinewidth": 0,
             "ticks": ""
            },
            "colorscale": [
             [
              0.0,
              "#0d0887"
             ],
             [
              0.1111111111111111,
              "#46039f"
             ],
             [
              0.2222222222222222,
              "#7201a8"
             ],
             [
              0.3333333333333333,
              "#9c179e"
             ],
             [
              0.4444444444444444,
              "#bd3786"
             ],
             [
              0.5555555555555556,
              "#d8576b"
             ],
             [
              0.6666666666666666,
              "#ed7953"
             ],
             [
              0.7777777777777778,
              "#fb9f3a"
             ],
             [
              0.8888888888888888,
              "#fdca26"
             ],
             [
              1.0,
              "#f0f921"
             ]
            ]
           }
          ],
          "heatmap": [
           {
            "type": "heatmap",
            "colorbar": {
             "outlinewidth": 0,
             "ticks": ""
            },
            "colorscale": [
             [
              0.0,
              "#0d0887"
             ],
             [
              0.1111111111111111,
              "#46039f"
             ],
             [
              0.2222222222222222,
              "#7201a8"
             ],
             [
              0.3333333333333333,
              "#9c179e"
             ],
             [
              0.4444444444444444,
              "#bd3786"
             ],
             [
              0.5555555555555556,
              "#d8576b"
             ],
             [
              0.6666666666666666,
              "#ed7953"
             ],
             [
              0.7777777777777778,
              "#fb9f3a"
             ],
             [
              0.8888888888888888,
              "#fdca26"
             ],
             [
              1.0,
              "#f0f921"
             ]
            ]
           }
          ],
          "heatmapgl": [
           {
            "type": "heatmapgl",
            "colorbar": {
             "outlinewidth": 0,
             "ticks": ""
            },
            "colorscale": [
             [
              0.0,
              "#0d0887"
             ],
             [
              0.1111111111111111,
              "#46039f"
             ],
             [
              0.2222222222222222,
              "#7201a8"
             ],
             [
              0.3333333333333333,
              "#9c179e"
             ],
             [
              0.4444444444444444,
              "#bd3786"
             ],
             [
              0.5555555555555556,
              "#d8576b"
             ],
             [
              0.6666666666666666,
              "#ed7953"
             ],
             [
              0.7777777777777778,
              "#fb9f3a"
             ],
             [
              0.8888888888888888,
              "#fdca26"
             ],
             [
              1.0,
              "#f0f921"
             ]
            ]
           }
          ],
          "contourcarpet": [
           {
            "type": "contourcarpet",
            "colorbar": {
             "outlinewidth": 0,
             "ticks": ""
            }
           }
          ],
          "contour": [
           {
            "type": "contour",
            "colorbar": {
             "outlinewidth": 0,
             "ticks": ""
            },
            "colorscale": [
             [
              0.0,
              "#0d0887"
             ],
             [
              0.1111111111111111,
              "#46039f"
             ],
             [
              0.2222222222222222,
              "#7201a8"
             ],
             [
              0.3333333333333333,
              "#9c179e"
             ],
             [
              0.4444444444444444,
              "#bd3786"
             ],
             [
              0.5555555555555556,
              "#d8576b"
             ],
             [
              0.6666666666666666,
              "#ed7953"
             ],
             [
              0.7777777777777778,
              "#fb9f3a"
             ],
             [
              0.8888888888888888,
              "#fdca26"
             ],
             [
              1.0,
              "#f0f921"
             ]
            ]
           }
          ],
          "surface": [
           {
            "type": "surface",
            "colorbar": {
             "outlinewidth": 0,
             "ticks": ""
            },
            "colorscale": [
             [
              0.0,
              "#0d0887"
             ],
             [
              0.1111111111111111,
              "#46039f"
             ],
             [
              0.2222222222222222,
              "#7201a8"
             ],
             [
              0.3333333333333333,
              "#9c179e"
             ],
             [
              0.4444444444444444,
              "#bd3786"
             ],
             [
              0.5555555555555556,
              "#d8576b"
             ],
             [
              0.6666666666666666,
              "#ed7953"
             ],
             [
              0.7777777777777778,
              "#fb9f3a"
             ],
             [
              0.8888888888888888,
              "#fdca26"
             ],
             [
              1.0,
              "#f0f921"
             ]
            ]
           }
          ],
          "mesh3d": [
           {
            "type": "mesh3d",
            "colorbar": {
             "outlinewidth": 0,
             "ticks": ""
            }
           }
          ],
          "scatter": [
           {
            "marker": {
             "line": {
              "color": "#283442"
             }
            },
            "type": "scatter"
           }
          ],
          "parcoords": [
           {
            "type": "parcoords",
            "line": {
             "colorbar": {
              "outlinewidth": 0,
              "ticks": ""
             }
            }
           }
          ],
          "scatterpolargl": [
           {
            "type": "scatterpolargl",
            "marker": {
             "colorbar": {
              "outlinewidth": 0,
              "ticks": ""
             }
            }
           }
          ],
          "bar": [
           {
            "error_x": {
             "color": "#f2f5fa"
            },
            "error_y": {
             "color": "#f2f5fa"
            },
            "marker": {
             "line": {
              "color": "rgb(17,17,17)",
              "width": 0.5
             },
             "pattern": {
              "fillmode": "overlay",
              "size": 10,
              "solidity": 0.2
             }
            },
            "type": "bar"
           }
          ],
          "scattergeo": [
           {
            "type": "scattergeo",
            "marker": {
             "colorbar": {
              "outlinewidth": 0,
              "ticks": ""
             }
            }
           }
          ],
          "scatterpolar": [
           {
            "type": "scatterpolar",
            "marker": {
             "colorbar": {
              "outlinewidth": 0,
              "ticks": ""
             }
            }
           }
          ],
          "histogram": [
           {
            "marker": {
             "pattern": {
              "fillmode": "overlay",
              "size": 10,
              "solidity": 0.2
             }
            },
            "type": "histogram"
           }
          ],
          "scattergl": [
           {
            "marker": {
             "line": {
              "color": "#283442"
             }
            },
            "type": "scattergl"
           }
          ],
          "scatter3d": [
           {
            "type": "scatter3d",
            "line": {
             "colorbar": {
              "outlinewidth": 0,
              "ticks": ""
             }
            },
            "marker": {
             "colorbar": {
              "outlinewidth": 0,
              "ticks": ""
             }
            }
           }
          ],
          "scattermapbox": [
           {
            "type": "scattermapbox",
            "marker": {
             "colorbar": {
              "outlinewidth": 0,
              "ticks": ""
             }
            }
           }
          ],
          "scatterternary": [
           {
            "type": "scatterternary",
            "marker": {
             "colorbar": {
              "outlinewidth": 0,
              "ticks": ""
             }
            }
           }
          ],
          "scattercarpet": [
           {
            "type": "scattercarpet",
            "marker": {
             "colorbar": {
              "outlinewidth": 0,
              "ticks": ""
             }
            }
           }
          ],
          "carpet": [
           {
            "aaxis": {
             "endlinecolor": "#A2B1C6",
             "gridcolor": "#506784",
             "linecolor": "#506784",
             "minorgridcolor": "#506784",
             "startlinecolor": "#A2B1C6"
            },
            "baxis": {
             "endlinecolor": "#A2B1C6",
             "gridcolor": "#506784",
             "linecolor": "#506784",
             "minorgridcolor": "#506784",
             "startlinecolor": "#A2B1C6"
            },
            "type": "carpet"
           }
          ],
          "table": [
           {
            "cells": {
             "fill": {
              "color": "#506784"
             },
             "line": {
              "color": "rgb(17,17,17)"
             }
            },
            "header": {
             "fill": {
              "color": "#2a3f5f"
             },
             "line": {
              "color": "rgb(17,17,17)"
             }
            },
            "type": "table"
           }
          ],
          "barpolar": [
           {
            "marker": {
             "line": {
              "color": "rgb(17,17,17)",
              "width": 0.5
             },
             "pattern": {
              "fillmode": "overlay",
              "size": 10,
              "solidity": 0.2
             }
            },
            "type": "barpolar"
           }
          ],
          "pie": [
           {
            "automargin": true,
            "type": "pie"
           }
          ]
         },
         "layout": {
          "autotypenumbers": "strict",
          "colorway": [
           "#636efa",
           "#EF553B",
           "#00cc96",
           "#ab63fa",
           "#FFA15A",
           "#19d3f3",
           "#FF6692",
           "#B6E880",
           "#FF97FF",
           "#FECB52"
          ],
          "font": {
           "color": "#f2f5fa"
          },
          "hovermode": "closest",
          "hoverlabel": {
           "align": "left"
          },
          "paper_bgcolor": "rgb(17,17,17)",
          "plot_bgcolor": "rgb(17,17,17)",
          "polar": {
           "bgcolor": "rgb(17,17,17)",
           "angularaxis": {
            "gridcolor": "#506784",
            "linecolor": "#506784",
            "ticks": ""
           },
           "radialaxis": {
            "gridcolor": "#506784",
            "linecolor": "#506784",
            "ticks": ""
           }
          },
          "ternary": {
           "bgcolor": "rgb(17,17,17)",
           "aaxis": {
            "gridcolor": "#506784",
            "linecolor": "#506784",
            "ticks": ""
           },
           "baxis": {
            "gridcolor": "#506784",
            "linecolor": "#506784",
            "ticks": ""
           },
           "caxis": {
            "gridcolor": "#506784",
            "linecolor": "#506784",
            "ticks": ""
           }
          },
          "coloraxis": {
           "colorbar": {
            "outlinewidth": 0,
            "ticks": ""
           }
          },
          "colorscale": {
           "sequential": [
            [
             0.0,
             "#0d0887"
            ],
            [
             0.1111111111111111,
             "#46039f"
            ],
            [
             0.2222222222222222,
             "#7201a8"
            ],
            [
             0.3333333333333333,
             "#9c179e"
            ],
            [
             0.4444444444444444,
             "#bd3786"
            ],
            [
             0.5555555555555556,
             "#d8576b"
            ],
            [
             0.6666666666666666,
             "#ed7953"
            ],
            [
             0.7777777777777778,
             "#fb9f3a"
            ],
            [
             0.8888888888888888,
             "#fdca26"
            ],
            [
             1.0,
             "#f0f921"
            ]
           ],
           "sequentialminus": [
            [
             0.0,
             "#0d0887"
            ],
            [
             0.1111111111111111,
             "#46039f"
            ],
            [
             0.2222222222222222,
             "#7201a8"
            ],
            [
             0.3333333333333333,
             "#9c179e"
            ],
            [
             0.4444444444444444,
             "#bd3786"
            ],
            [
             0.5555555555555556,
             "#d8576b"
            ],
            [
             0.6666666666666666,
             "#ed7953"
            ],
            [
             0.7777777777777778,
             "#fb9f3a"
            ],
            [
             0.8888888888888888,
             "#fdca26"
            ],
            [
             1.0,
             "#f0f921"
            ]
           ],
           "diverging": [
            [
             0,
             "#8e0152"
            ],
            [
             0.1,
             "#c51b7d"
            ],
            [
             0.2,
             "#de77ae"
            ],
            [
             0.3,
             "#f1b6da"
            ],
            [
             0.4,
             "#fde0ef"
            ],
            [
             0.5,
             "#f7f7f7"
            ],
            [
             0.6,
             "#e6f5d0"
            ],
            [
             0.7,
             "#b8e186"
            ],
            [
             0.8,
             "#7fbc41"
            ],
            [
             0.9,
             "#4d9221"
            ],
            [
             1,
             "#276419"
            ]
           ]
          },
          "xaxis": {
           "gridcolor": "#283442",
           "linecolor": "#506784",
           "ticks": "",
           "title": {
            "standoff": 15
           },
           "zerolinecolor": "#283442",
           "automargin": true,
           "zerolinewidth": 2
          },
          "yaxis": {
           "gridcolor": "#283442",
           "linecolor": "#506784",
           "ticks": "",
           "title": {
            "standoff": 15
           },
           "zerolinecolor": "#283442",
           "automargin": true,
           "zerolinewidth": 2
          },
          "scene": {
           "xaxis": {
            "backgroundcolor": "rgb(17,17,17)",
            "gridcolor": "#506784",
            "linecolor": "#506784",
            "showbackground": true,
            "ticks": "",
            "zerolinecolor": "#C8D4E3",
            "gridwidth": 2
           },
           "yaxis": {
            "backgroundcolor": "rgb(17,17,17)",
            "gridcolor": "#506784",
            "linecolor": "#506784",
            "showbackground": true,
            "ticks": "",
            "zerolinecolor": "#C8D4E3",
            "gridwidth": 2
           },
           "zaxis": {
            "backgroundcolor": "rgb(17,17,17)",
            "gridcolor": "#506784",
            "linecolor": "#506784",
            "showbackground": true,
            "ticks": "",
            "zerolinecolor": "#C8D4E3",
            "gridwidth": 2
           }
          },
          "shapedefaults": {
           "line": {
            "color": "#f2f5fa"
           }
          },
          "annotationdefaults": {
           "arrowcolor": "#f2f5fa",
           "arrowhead": 0,
           "arrowwidth": 1
          },
          "geo": {
           "bgcolor": "rgb(17,17,17)",
           "landcolor": "rgb(17,17,17)",
           "subunitcolor": "#506784",
           "showland": true,
           "showlakes": true,
           "lakecolor": "rgb(17,17,17)"
          },
          "title": {
           "x": 0.05
          },
          "updatemenudefaults": {
           "bgcolor": "#506784",
           "borderwidth": 0
          },
          "sliderdefaults": {
           "bgcolor": "#C8D4E3",
           "borderwidth": 1,
           "bordercolor": "rgb(17,17,17)",
           "tickwidth": 0
          },
          "mapbox": {
           "style": "dark"
          }
         }
        },
        "title": {
         "text": "Объем оперций с акциями компании Google"
        },
        "xaxis": {
         "title": {
          "text": "Дата"
         }
        },
        "yaxis": {
         "title": {
          "text": "Объем купли/продажи"
         }
        }
       },
       "config": {
        "plotlyServerURL": "https://plot.ly"
       }
      },
      "text/html": "<div>                            <div id=\"a9b4b010-6a85-4e0b-9474-7b1060754f51\" class=\"plotly-graph-div\" style=\"height:525px; width:100%;\"></div>            <script type=\"text/javascript\">                require([\"plotly\"], function(Plotly) {                    window.PLOTLYENV=window.PLOTLYENV || {};                                    if (document.getElementById(\"a9b4b010-6a85-4e0b-9474-7b1060754f51\")) {                    Plotly.newPlot(                        \"a9b4b010-6a85-4e0b-9474-7b1060754f51\",                        [{\"x\":[5,6,5,6,6,6,5,6,5,5,7,6,5,7,6,5,7,7,7,4,5,6,5,5,6,5,5,5,5,4,7,7,5,7,5,5,5,6,5,6,4,6,5,5,7,6,6,6,6,6,4,5,5,5,5,6,5,6,5,7,7,5,6,6,5,5,5,5,5,6,6,6,5,5,5,5,5,5,5,6,6,5,5,5,6,6,6,6,6,5,6,6,6,5,5,6,7,5,7,5,7,5,7,5,6,7,6,6,5,5,5,4,5,5,5,5,5,6,5,5,5,5,5,7,5,6,5,6,5,5,6,6,7,6,6,7,5,5,5,6,5,5,5,6,7,6,5,5,6,6,6,6,6,6,7,7,6,5,5,5,8,5,7,6,6,5,5,6,6,5,5,7,5,5,5,5,5,5,5,7,6,6,7,6,5,5,6,7,7,5,6,6,5,5,5,5,5,6,5,5,5,6,4,8,5,5,3,6,6,7,6,5,6,6,6,6,5,7,6,7,6,6,7,6,5,7,7,6,7,5,6,6,5,5,5,6,6,7,6,6,5,7,5,7,6,6,7,6,6,5,6,7,6,5,6,5,5,6,6,5,6,6,5,6,5,6,5,5,5,6,5,6,6,5,5,5,6,7,5,6,6,6,7,5,5,5,6,6,5,6,6,5,7,6,5,8,7,4,6,5,6,6,6,5,5,5,7,5,5,6,5,6,6,6,6,6,6,6,6,6,5,5,6,6,5,6,5,6,6,5,6,7,4,5,7,5,5,5,5,6,5,5,6,5,6,6,5,8,7,6,6,7,4,6,6,6,5,6,5,7,6,7,6,6,6,5,8,6,6,6,5,5,6,7,6,6,5,6,8,5,5,7,5,6,7,5,7,6,6,6,7,7,5,5,5,6,7,6,6,6,7,5,6,6,4,5,7,6,6,6,6,4,7,4,5,4,5,5,5,5,7,6,6,5,5,6,6,6,5,5,6,6,5,5,6,6,6,6,6,5,6,5,5,6,7,5,5,7,5,5,5,5,5,5,5,5,6,6,6,5,7,6,6,6,5,5,6,6,6,4,5,7,5,5,6,5,5,6,5,6,5,6,7,6,6,6,6,5,6,5,6,5,6,6,6,6,6,5,5,6,5,6,3,5,5,6,5,7,5,5,5,5,6,7,6,5,5,4,6,6,5,6,6,6,6,6,6,5,7,6,6,6,7,6,6,6,4,5,6,5,5,5,5,7,5,5,5,5,5,5,4,5,6,7,6,4,5,6,6,6,5,6,6,5,6,5,5,6,5,5,5,5,6,5,6,6,5,6,6,7,7,6,6,6,5,6,8,7,6,5,5,5,5,7,6,7,6,5,6,7,5,6,5,6,5,6,5,5,5,6,5,6,7,5,6,6,5,5,5,7,7,6,5,5,6,6,5,5,5,6,6,6,7,6,6,5,5,6,6,7,6,4,5,6,6,5,7,4,5,6,6,5,3,5,5,3,5,5,6,6,6,6,5,5,5,6,5,5,5,6,6,5,6,6,5,5,6,5,6,6,5,5,6,5,6,4,6,8,4,6,7,6,5,7,5,5,5,6,5,8,5,7,5,6,7,4,6,5,6,7,6,6,5,5,6,6,6,5,5,7,5,5,5,6,6,5,5,6,5,5,5,5,6,5,6,6,7,6,6,5,5,5,6,5,7,6,7,6,6,6,5,6,5,5,6,6,5,5,6,6,5,6,7,6,5,7,6,6,5,5,6,6,5,5,7,7,6,5,5,8,5,6,7,5,5,6,6,5,5,6,5,5,5,6,5,5,8,5,6,7],\"xbins\":{\"size\":1},\"type\":\"histogram\"}],                        {\"template\":{\"data\":{\"histogram2dcontour\":[{\"type\":\"histogram2dcontour\",\"colorbar\":{\"outlinewidth\":0,\"ticks\":\"\"},\"colorscale\":[[0.0,\"#0d0887\"],[0.1111111111111111,\"#46039f\"],[0.2222222222222222,\"#7201a8\"],[0.3333333333333333,\"#9c179e\"],[0.4444444444444444,\"#bd3786\"],[0.5555555555555556,\"#d8576b\"],[0.6666666666666666,\"#ed7953\"],[0.7777777777777778,\"#fb9f3a\"],[0.8888888888888888,\"#fdca26\"],[1.0,\"#f0f921\"]]}],\"choropleth\":[{\"type\":\"choropleth\",\"colorbar\":{\"outlinewidth\":0,\"ticks\":\"\"}}],\"histogram2d\":[{\"type\":\"histogram2d\",\"colorbar\":{\"outlinewidth\":0,\"ticks\":\"\"},\"colorscale\":[[0.0,\"#0d0887\"],[0.1111111111111111,\"#46039f\"],[0.2222222222222222,\"#7201a8\"],[0.3333333333333333,\"#9c179e\"],[0.4444444444444444,\"#bd3786\"],[0.5555555555555556,\"#d8576b\"],[0.6666666666666666,\"#ed7953\"],[0.7777777777777778,\"#fb9f3a\"],[0.8888888888888888,\"#fdca26\"],[1.0,\"#f0f921\"]]}],\"heatmap\":[{\"type\":\"heatmap\",\"colorbar\":{\"outlinewidth\":0,\"ticks\":\"\"},\"colorscale\":[[0.0,\"#0d0887\"],[0.1111111111111111,\"#46039f\"],[0.2222222222222222,\"#7201a8\"],[0.3333333333333333,\"#9c179e\"],[0.4444444444444444,\"#bd3786\"],[0.5555555555555556,\"#d8576b\"],[0.6666666666666666,\"#ed7953\"],[0.7777777777777778,\"#fb9f3a\"],[0.8888888888888888,\"#fdca26\"],[1.0,\"#f0f921\"]]}],\"heatmapgl\":[{\"type\":\"heatmapgl\",\"colorbar\":{\"outlinewidth\":0,\"ticks\":\"\"},\"colorscale\":[[0.0,\"#0d0887\"],[0.1111111111111111,\"#46039f\"],[0.2222222222222222,\"#7201a8\"],[0.3333333333333333,\"#9c179e\"],[0.4444444444444444,\"#bd3786\"],[0.5555555555555556,\"#d8576b\"],[0.6666666666666666,\"#ed7953\"],[0.7777777777777778,\"#fb9f3a\"],[0.8888888888888888,\"#fdca26\"],[1.0,\"#f0f921\"]]}],\"contourcarpet\":[{\"type\":\"contourcarpet\",\"colorbar\":{\"outlinewidth\":0,\"ticks\":\"\"}}],\"contour\":[{\"type\":\"contour\",\"colorbar\":{\"outlinewidth\":0,\"ticks\":\"\"},\"colorscale\":[[0.0,\"#0d0887\"],[0.1111111111111111,\"#46039f\"],[0.2222222222222222,\"#7201a8\"],[0.3333333333333333,\"#9c179e\"],[0.4444444444444444,\"#bd3786\"],[0.5555555555555556,\"#d8576b\"],[0.6666666666666666,\"#ed7953\"],[0.7777777777777778,\"#fb9f3a\"],[0.8888888888888888,\"#fdca26\"],[1.0,\"#f0f921\"]]}],\"surface\":[{\"type\":\"surface\",\"colorbar\":{\"outlinewidth\":0,\"ticks\":\"\"},\"colorscale\":[[0.0,\"#0d0887\"],[0.1111111111111111,\"#46039f\"],[0.2222222222222222,\"#7201a8\"],[0.3333333333333333,\"#9c179e\"],[0.4444444444444444,\"#bd3786\"],[0.5555555555555556,\"#d8576b\"],[0.6666666666666666,\"#ed7953\"],[0.7777777777777778,\"#fb9f3a\"],[0.8888888888888888,\"#fdca26\"],[1.0,\"#f0f921\"]]}],\"mesh3d\":[{\"type\":\"mesh3d\",\"colorbar\":{\"outlinewidth\":0,\"ticks\":\"\"}}],\"scatter\":[{\"marker\":{\"line\":{\"color\":\"#283442\"}},\"type\":\"scatter\"}],\"parcoords\":[{\"type\":\"parcoords\",\"line\":{\"colorbar\":{\"outlinewidth\":0,\"ticks\":\"\"}}}],\"scatterpolargl\":[{\"type\":\"scatterpolargl\",\"marker\":{\"colorbar\":{\"outlinewidth\":0,\"ticks\":\"\"}}}],\"bar\":[{\"error_x\":{\"color\":\"#f2f5fa\"},\"error_y\":{\"color\":\"#f2f5fa\"},\"marker\":{\"line\":{\"color\":\"rgb(17,17,17)\",\"width\":0.5},\"pattern\":{\"fillmode\":\"overlay\",\"size\":10,\"solidity\":0.2}},\"type\":\"bar\"}],\"scattergeo\":[{\"type\":\"scattergeo\",\"marker\":{\"colorbar\":{\"outlinewidth\":0,\"ticks\":\"\"}}}],\"scatterpolar\":[{\"type\":\"scatterpolar\",\"marker\":{\"colorbar\":{\"outlinewidth\":0,\"ticks\":\"\"}}}],\"histogram\":[{\"marker\":{\"pattern\":{\"fillmode\":\"overlay\",\"size\":10,\"solidity\":0.2}},\"type\":\"histogram\"}],\"scattergl\":[{\"marker\":{\"line\":{\"color\":\"#283442\"}},\"type\":\"scattergl\"}],\"scatter3d\":[{\"type\":\"scatter3d\",\"line\":{\"colorbar\":{\"outlinewidth\":0,\"ticks\":\"\"}},\"marker\":{\"colorbar\":{\"outlinewidth\":0,\"ticks\":\"\"}}}],\"scattermapbox\":[{\"type\":\"scattermapbox\",\"marker\":{\"colorbar\":{\"outlinewidth\":0,\"ticks\":\"\"}}}],\"scatterternary\":[{\"type\":\"scatterternary\",\"marker\":{\"colorbar\":{\"outlinewidth\":0,\"ticks\":\"\"}}}],\"scattercarpet\":[{\"type\":\"scattercarpet\",\"marker\":{\"colorbar\":{\"outlinewidth\":0,\"ticks\":\"\"}}}],\"carpet\":[{\"aaxis\":{\"endlinecolor\":\"#A2B1C6\",\"gridcolor\":\"#506784\",\"linecolor\":\"#506784\",\"minorgridcolor\":\"#506784\",\"startlinecolor\":\"#A2B1C6\"},\"baxis\":{\"endlinecolor\":\"#A2B1C6\",\"gridcolor\":\"#506784\",\"linecolor\":\"#506784\",\"minorgridcolor\":\"#506784\",\"startlinecolor\":\"#A2B1C6\"},\"type\":\"carpet\"}],\"table\":[{\"cells\":{\"fill\":{\"color\":\"#506784\"},\"line\":{\"color\":\"rgb(17,17,17)\"}},\"header\":{\"fill\":{\"color\":\"#2a3f5f\"},\"line\":{\"color\":\"rgb(17,17,17)\"}},\"type\":\"table\"}],\"barpolar\":[{\"marker\":{\"line\":{\"color\":\"rgb(17,17,17)\",\"width\":0.5},\"pattern\":{\"fillmode\":\"overlay\",\"size\":10,\"solidity\":0.2}},\"type\":\"barpolar\"}],\"pie\":[{\"automargin\":true,\"type\":\"pie\"}]},\"layout\":{\"autotypenumbers\":\"strict\",\"colorway\":[\"#636efa\",\"#EF553B\",\"#00cc96\",\"#ab63fa\",\"#FFA15A\",\"#19d3f3\",\"#FF6692\",\"#B6E880\",\"#FF97FF\",\"#FECB52\"],\"font\":{\"color\":\"#f2f5fa\"},\"hovermode\":\"closest\",\"hoverlabel\":{\"align\":\"left\"},\"paper_bgcolor\":\"rgb(17,17,17)\",\"plot_bgcolor\":\"rgb(17,17,17)\",\"polar\":{\"bgcolor\":\"rgb(17,17,17)\",\"angularaxis\":{\"gridcolor\":\"#506784\",\"linecolor\":\"#506784\",\"ticks\":\"\"},\"radialaxis\":{\"gridcolor\":\"#506784\",\"linecolor\":\"#506784\",\"ticks\":\"\"}},\"ternary\":{\"bgcolor\":\"rgb(17,17,17)\",\"aaxis\":{\"gridcolor\":\"#506784\",\"linecolor\":\"#506784\",\"ticks\":\"\"},\"baxis\":{\"gridcolor\":\"#506784\",\"linecolor\":\"#506784\",\"ticks\":\"\"},\"caxis\":{\"gridcolor\":\"#506784\",\"linecolor\":\"#506784\",\"ticks\":\"\"}},\"coloraxis\":{\"colorbar\":{\"outlinewidth\":0,\"ticks\":\"\"}},\"colorscale\":{\"sequential\":[[0.0,\"#0d0887\"],[0.1111111111111111,\"#46039f\"],[0.2222222222222222,\"#7201a8\"],[0.3333333333333333,\"#9c179e\"],[0.4444444444444444,\"#bd3786\"],[0.5555555555555556,\"#d8576b\"],[0.6666666666666666,\"#ed7953\"],[0.7777777777777778,\"#fb9f3a\"],[0.8888888888888888,\"#fdca26\"],[1.0,\"#f0f921\"]],\"sequentialminus\":[[0.0,\"#0d0887\"],[0.1111111111111111,\"#46039f\"],[0.2222222222222222,\"#7201a8\"],[0.3333333333333333,\"#9c179e\"],[0.4444444444444444,\"#bd3786\"],[0.5555555555555556,\"#d8576b\"],[0.6666666666666666,\"#ed7953\"],[0.7777777777777778,\"#fb9f3a\"],[0.8888888888888888,\"#fdca26\"],[1.0,\"#f0f921\"]],\"diverging\":[[0,\"#8e0152\"],[0.1,\"#c51b7d\"],[0.2,\"#de77ae\"],[0.3,\"#f1b6da\"],[0.4,\"#fde0ef\"],[0.5,\"#f7f7f7\"],[0.6,\"#e6f5d0\"],[0.7,\"#b8e186\"],[0.8,\"#7fbc41\"],[0.9,\"#4d9221\"],[1,\"#276419\"]]},\"xaxis\":{\"gridcolor\":\"#283442\",\"linecolor\":\"#506784\",\"ticks\":\"\",\"title\":{\"standoff\":15},\"zerolinecolor\":\"#283442\",\"automargin\":true,\"zerolinewidth\":2},\"yaxis\":{\"gridcolor\":\"#283442\",\"linecolor\":\"#506784\",\"ticks\":\"\",\"title\":{\"standoff\":15},\"zerolinecolor\":\"#283442\",\"automargin\":true,\"zerolinewidth\":2},\"scene\":{\"xaxis\":{\"backgroundcolor\":\"rgb(17,17,17)\",\"gridcolor\":\"#506784\",\"linecolor\":\"#506784\",\"showbackground\":true,\"ticks\":\"\",\"zerolinecolor\":\"#C8D4E3\",\"gridwidth\":2},\"yaxis\":{\"backgroundcolor\":\"rgb(17,17,17)\",\"gridcolor\":\"#506784\",\"linecolor\":\"#506784\",\"showbackground\":true,\"ticks\":\"\",\"zerolinecolor\":\"#C8D4E3\",\"gridwidth\":2},\"zaxis\":{\"backgroundcolor\":\"rgb(17,17,17)\",\"gridcolor\":\"#506784\",\"linecolor\":\"#506784\",\"showbackground\":true,\"ticks\":\"\",\"zerolinecolor\":\"#C8D4E3\",\"gridwidth\":2}},\"shapedefaults\":{\"line\":{\"color\":\"#f2f5fa\"}},\"annotationdefaults\":{\"arrowcolor\":\"#f2f5fa\",\"arrowhead\":0,\"arrowwidth\":1},\"geo\":{\"bgcolor\":\"rgb(17,17,17)\",\"landcolor\":\"rgb(17,17,17)\",\"subunitcolor\":\"#506784\",\"showland\":true,\"showlakes\":true,\"lakecolor\":\"rgb(17,17,17)\"},\"title\":{\"x\":0.05},\"updatemenudefaults\":{\"bgcolor\":\"#506784\",\"borderwidth\":0},\"sliderdefaults\":{\"bgcolor\":\"#C8D4E3\",\"borderwidth\":1,\"bordercolor\":\"rgb(17,17,17)\",\"tickwidth\":0},\"mapbox\":{\"style\":\"dark\"}}},\"title\":{\"text\":\"\\u041e\\u0431\\u044a\\u0435\\u043c \\u043e\\u043f\\u0435\\u0440\\u0446\\u0438\\u0439 \\u0441 \\u0430\\u043a\\u0446\\u0438\\u044f\\u043c\\u0438 \\u043a\\u043e\\u043c\\u043f\\u0430\\u043d\\u0438\\u0438 Google\"},\"xaxis\":{\"title\":{\"text\":\"\\u0414\\u0430\\u0442\\u0430\"}},\"yaxis\":{\"title\":{\"text\":\"\\u041e\\u0431\\u044a\\u0435\\u043c \\u043a\\u0443\\u043f\\u043b\\u0438\\u002f\\u043f\\u0440\\u043e\\u0434\\u0430\\u0436\\u0438\"}}},                        {\"responsive\": true}                    ).then(function(){\n                            \nvar gd = document.getElementById('a9b4b010-6a85-4e0b-9474-7b1060754f51');\nvar x = new MutationObserver(function (mutations, observer) {{\n        var display = window.getComputedStyle(gd).display;\n        if (!display || display === 'none') {{\n            console.log([gd, 'removed!']);\n            Plotly.purge(gd);\n            observer.disconnect();\n        }}\n}});\n\n// Listen for the removal of the full notebook cells\nvar notebookContainer = gd.closest('#notebook-container');\nif (notebookContainer) {{\n    x.observe(notebookContainer, {childList: true});\n}}\n\n// Listen for the clearing of the current output cell\nvar outputEl = gd.closest('.output');\nif (outputEl) {{\n    x.observe(outputEl, {childList: true});\n}}\n\n                        })                };                });            </script>        </div>"
     },
     "metadata": {},
     "output_type": "display_data"
    }
   ],
   "source": [
    "fig = go.Figure()\n",
    "\n",
    "fig.add_trace(go.Histogram(x=y_train,\n",
    "              xbins=go.histogram.XBins(size=1)))\n",
    "\n",
    "fig.update_layout(title='Объем оперций с акциями компании Google',\n",
    "                    xaxis_title='Дата',\n",
    "                    yaxis_title='Объем купли/продажи')\n",
    "fig.show()"
   ],
   "metadata": {
    "collapsed": false,
    "ExecuteTime": {
     "end_time": "2024-09-26T15:11:57.060099700Z",
     "start_time": "2024-09-26T15:11:57.045501600Z"
    }
   },
   "id": "2d0ed95be7a895e3",
   "execution_count": 82
  },
  {
   "cell_type": "code",
   "outputs": [
    {
     "data": {
      "text/plain": "<Figure size 640x480 with 2 Axes>",
      "image/png": "[encoded data removed]"
     },
     "metadata": {},
     "output_type": "display_data"
    }
   ],
   "source": [
    "ax = sns.heatmap(X_train.corr(), cmap=\"seismic\",\n",
    "                 annot=True, fmt=\"0.2f\")\n",
    "ax.set_title('Correlation heatmap', size=16)\n",
    "for t in ax.texts:\n",
    "    if abs(float(t.get_text())) >= 0.05:\n",
    "        t.set_text(t.get_text())\n",
    "    else:\n",
    "        t.set_text(\"\")"
   ],
   "metadata": {
    "collapsed": false,
    "ExecuteTime": {
     "end_time": "2024-09-26T15:06:34.467190Z",
     "start_time": "2024-09-26T15:06:34.020818500Z"
    }
   },
   "id": "9a0c4a17a97dcaab",
   "execution_count": 67
  },
  {
   "cell_type": "code",
   "outputs": [
    {
     "name": "stdout",
     "output_type": "stream",
     "text": [
      "fixed acidity            1.761073\n",
      "volatile acidity         0.179030\n",
      "citric acid              0.196377\n",
      "residual sugar           1.214667\n",
      "chlorides                0.050222\n",
      "free sulfur dioxide      9.955457\n",
      "total sulfur dioxide    32.728447\n",
      "density                  0.001914\n",
      "pH                       0.156328\n",
      "sulphates                0.176342\n",
      "alcohol                  1.075557\n",
      "dtype: float64\n"
     ]
    }
   ],
   "source": [
    "def calculate_rmse(column):\n",
    "    return np.sqrt(((column - column.mean()) ** 2).mean())\n",
    "\n",
    "# Применение функции к каждому столбцу DataFrame\n",
    "rmse_per_column = X_train.apply(calculate_rmse)\n",
    "\n",
    "print(rmse_per_column)"
   ],
   "metadata": {
    "collapsed": false,
    "ExecuteTime": {
     "end_time": "2024-09-26T15:06:34.486899800Z",
     "start_time": "2024-09-26T15:06:34.465185900Z"
    }
   },
   "id": "eaf116b5ee803727",
   "execution_count": 68
  },
  {
   "cell_type": "markdown",
   "source": [],
   "metadata": {
    "collapsed": false
   },
   "id": "9653cb43c4563383"
  },
  {
   "cell_type": "code",
   "outputs": [],
   "source": [
    "def add_params(X):\n",
    "    X['total_acid'] = X['fixed acidity'] + X['volatile acidity'] + X['citric acid']\n",
    "    X['sulphates/acid'] = X['sulphates'] / X['volatile acidity']\n",
    "    X['sulphates/chlorines'] = X['sulphates'] / X['chlorides']\n",
    "    X['sulphates*alcohol'] = X['sulphates'] * X['alcohol']\n",
    "    return X\n",
    "\n",
    "def mod_dataset(dataset: pd.DataFrame()):\n",
    "    dataset.drop(columns=['density'], inplace=True)\n",
    "    dataset = add_params(dataset)\n",
    "    return dataset"
   ],
   "metadata": {
    "collapsed": false,
    "ExecuteTime": {
     "end_time": "2024-09-26T15:06:34.486899800Z",
     "start_time": "2024-09-26T15:06:34.470587600Z"
    }
   },
   "id": "79214f5f6e6881b5",
   "execution_count": 69
  },
  {
   "cell_type": "code",
   "outputs": [
    {
     "data": {
      "text/plain": "     fixed acidity  volatile acidity  citric acid  residual sugar  chlorides  \\\n0              7.4             0.700         0.00             1.9      0.076   \n462           15.9             0.360         0.65             7.5      0.096   \n693            7.1             0.360         0.30             1.6      0.080   \n259           12.8             0.615         0.66             5.8      0.083   \n333            9.6             0.540         0.42             2.4      0.081   \n\n     free sulfur dioxide  total sulfur dioxide    pH  sulphates  alcohol  \\\n0                   11.0                  34.0  3.51       0.56      9.4   \n462                 22.0                  71.0  2.98       0.84     14.9   \n693                 35.0                  70.0  3.44       0.50      9.4   \n259                  7.0                  42.0  3.07       0.73     10.0   \n333                 25.0                  52.0  3.20       0.71     11.4   \n\n     total_acid  sulphates/acid  sulphates/chlorines  sulphates*alcohol  \n0         8.100        0.800000             7.368421              5.264  \n462      16.910        2.333333             8.750000             12.516  \n693       7.760        1.388889             6.250000              4.700  \n259      14.075        1.186992             8.795181              7.300  \n333      10.560        1.314815             8.765432              8.094  ",
      "text/html": "<div>\n<style scoped>\n    .dataframe tbody tr th:only-of-type {\n        vertical-align: middle;\n    }\n\n    .dataframe tbody tr th {\n        vertical-align: top;\n    }\n\n    .dataframe thead th {\n        text-align: right;\n    }\n</style>\n<table border=\"1\" class=\"dataframe\">\n  <thead>\n    <tr style=\"text-align: right;\">\n      <th></th>\n      <th>fixed acidity</th>\n      <th>volatile acidity</th>\n      <th>citric acid</th>\n      <th>residual sugar</th>\n      <th>chlorides</th>\n      <th>free sulfur dioxide</th>\n      <th>total sulfur dioxide</th>\n      <th>pH</th>\n      <th>sulphates</th>\n      <th>alcohol</th>\n      <th>total_acid</th>\n      <th>sulphates/acid</th>\n      <th>sulphates/chlorines</th>\n      <th>sulphates*alcohol</th>\n    </tr>\n  </thead>\n  <tbody>\n    <tr>\n      <th>0</th>\n      <td>7.4</td>\n      <td>0.700</td>\n      <td>0.00</td>\n      <td>1.9</td>\n      <td>0.076</td>\n      <td>11.0</td>\n      <td>34.0</td>\n      <td>3.51</td>\n      <td>0.56</td>\n      <td>9.4</td>\n      <td>8.100</td>\n      <td>0.800000</td>\n      <td>7.368421</td>\n      <td>5.264</td>\n    </tr>\n    <tr>\n      <th>462</th>\n      <td>15.9</td>\n      <td>0.360</td>\n      <td>0.65</td>\n      <td>7.5</td>\n      <td>0.096</td>\n      <td>22.0</td>\n      <td>71.0</td>\n      <td>2.98</td>\n      <td>0.84</td>\n      <td>14.9</td>\n      <td>16.910</td>\n      <td>2.333333</td>\n      <td>8.750000</td>\n      <td>12.516</td>\n    </tr>\n    <tr>\n      <th>693</th>\n      <td>7.1</td>\n      <td>0.360</td>\n      <td>0.30</td>\n      <td>1.6</td>\n      <td>0.080</td>\n      <td>35.0</td>\n      <td>70.0</td>\n      <td>3.44</td>\n      <td>0.50</td>\n      <td>9.4</td>\n      <td>7.760</td>\n      <td>1.388889</td>\n      <td>6.250000</td>\n      <td>4.700</td>\n    </tr>\n    <tr>\n      <th>259</th>\n      <td>12.8</td>\n      <td>0.615</td>\n      <td>0.66</td>\n      <td>5.8</td>\n      <td>0.083</td>\n      <td>7.0</td>\n      <td>42.0</td>\n      <td>3.07</td>\n      <td>0.73</td>\n      <td>10.0</td>\n      <td>14.075</td>\n      <td>1.186992</td>\n      <td>8.795181</td>\n      <td>7.300</td>\n    </tr>\n    <tr>\n      <th>333</th>\n      <td>9.6</td>\n      <td>0.540</td>\n      <td>0.42</td>\n      <td>2.4</td>\n      <td>0.081</td>\n      <td>25.0</td>\n      <td>52.0</td>\n      <td>3.20</td>\n      <td>0.71</td>\n      <td>11.4</td>\n      <td>10.560</td>\n      <td>1.314815</td>\n      <td>8.765432</td>\n      <td>8.094</td>\n    </tr>\n  </tbody>\n</table>\n</div>"
     },
     "execution_count": 70,
     "metadata": {},
     "output_type": "execute_result"
    }
   ],
   "source": [
    "X_train_mod = mod_dataset(X_train)\n",
    "X_test_mod = mod_dataset(X_test)\n",
    "X_train.sample(5)"
   ],
   "metadata": {
    "collapsed": false,
    "ExecuteTime": {
     "end_time": "2024-09-26T15:06:34.599864500Z",
     "start_time": "2024-09-26T15:06:34.478920800Z"
    }
   },
   "id": "460e5c9f79974ab4",
   "execution_count": 70
  },
  {
   "cell_type": "code",
   "outputs": [],
   "source": [
    "from sklearn.preprocessing import StandardScaler\n",
    "\n",
    "scaler = StandardScaler()\n",
    "X_train_std = scaler.fit_transform(X_train_mod)\n",
    "X_test_std = scaler.transform(X_test_mod)\n"
   ],
   "metadata": {
    "collapsed": false,
    "ExecuteTime": {
     "end_time": "2024-09-26T15:06:34.600859200Z",
     "start_time": "2024-09-26T15:06:34.497112600Z"
    }
   },
   "id": "2ca285514c97666f",
   "execution_count": 71
  },
  {
   "cell_type": "code",
   "outputs": [],
   "source": [
    "from sklearn.metrics import balanced_accuracy_score, f1_score, classification_report\n",
    "\n",
    "\n",
    "\n",
    "def train_eval_model(model, X_train, X_test, y_train, y_test):\n",
    "    model.fit(X_train, y_train)\n",
    "    y_pred = model.predict(X_test)\n",
    "    accuracy = balanced_accuracy_score(y_test, y_pred)\n",
    "    f1 = f1_score(y_test, y_pred, average='weighted')\n",
    "    return accuracy, f1"
   ],
   "metadata": {
    "collapsed": false,
    "ExecuteTime": {
     "end_time": "2024-09-26T15:06:34.600859200Z",
     "start_time": "2024-09-26T15:06:34.503975900Z"
    }
   },
   "id": "de7a8ed37a2a5203",
   "execution_count": 72
  },
  {
   "cell_type": "code",
   "outputs": [
    {
     "data": {
      "text/plain": "           model_name  test_acc   test_f1\n0     RidgeClassifier  0.278481  0.344967\n1  LogisticRegression  0.299110  0.423387\n2  CatBoostClassifier  0.321570  0.620908",
      "text/html": "<div>\n<style scoped>\n    .dataframe tbody tr th:only-of-type {\n        vertical-align: middle;\n    }\n\n    .dataframe tbody tr th {\n        vertical-align: top;\n    }\n\n    .dataframe thead th {\n        text-align: right;\n    }\n</style>\n<table border=\"1\" class=\"dataframe\">\n  <thead>\n    <tr style=\"text-align: right;\">\n      <th></th>\n      <th>model_name</th>\n      <th>test_acc</th>\n      <th>test_f1</th>\n    </tr>\n  </thead>\n  <tbody>\n    <tr>\n      <th>0</th>\n      <td>RidgeClassifier</td>\n      <td>0.278481</td>\n      <td>0.344967</td>\n    </tr>\n    <tr>\n      <th>1</th>\n      <td>LogisticRegression</td>\n      <td>0.299110</td>\n      <td>0.423387</td>\n    </tr>\n    <tr>\n      <th>2</th>\n      <td>CatBoostClassifier</td>\n      <td>0.321570</td>\n      <td>0.620908</td>\n    </tr>\n  </tbody>\n</table>\n</div>"
     },
     "execution_count": 73,
     "metadata": {},
     "output_type": "execute_result"
    }
   ],
   "source": [
    "from sklearn.linear_model import RidgeClassifier, LogisticRegression\n",
    "from catboost import CatBoostClassifier\n",
    "from sklearn.utils.class_weight import compute_class_weight\n",
    "from sklearn.exceptions import ConvergenceWarning\n",
    "import warnings\n",
    "\n",
    "warnings.simplefilter('ignore', category=ConvergenceWarning)\n",
    "\n",
    "weights = {cl: w for cl, w in zip(np.unique(y_train), compute_class_weight(class_weight=\"balanced\", classes=np.unique(y_train), y=y_train))}\n",
    "\n",
    "results_stock = pd.DataFrame({'model_name': [], 'test_acc': [], 'test_f1': []})\n",
    "results_mod = pd.DataFrame({'model_name': [], 'test_acc': [], 'test_f1': []})\n",
    "results_mod_normalised = pd.DataFrame({'model_name': [], 'test_acc': [], 'test_f1': []})\n",
    "\n",
    "\n",
    "\n",
    "for model in [RidgeClassifier(max_iter=5000, class_weight=weights), LogisticRegression(max_iter=5000, class_weight=weights), CatBoostClassifier(silent=True, class_weights=weights)]:\n",
    "    acc, f1 = train_eval_model(model, X_train, X_test, y_train, y_test)\n",
    "    results_stock.loc[len(results_stock)] = [type(model).__name__, acc, f1]\n",
    "\n",
    "\n",
    "for model in [RidgeClassifier(max_iter=5000, class_weight=weights), LogisticRegression(max_iter=5000, class_weight=weights), CatBoostClassifier(silent=True, class_weights=weights)]:\n",
    "    acc, f1 = train_eval_model(model, X_train_mod, X_test_mod, y_train, y_test)\n",
    "    results_mod.loc[len(results_mod)] = [type(model).__name__, acc, f1]\n",
    "    \n",
    "for model in [RidgeClassifier(max_iter=5000, class_weight=weights), LogisticRegression(max_iter=5000, class_weight=weights), CatBoostClassifier(silent=True, class_weights=weights)]:\n",
    "    acc, f1 = train_eval_model(model, X_train_std, X_test_std, y_train, y_test)\n",
    "    results_mod_normalised.loc[len(results_mod_normalised)] = [type(model).__name__, acc, f1]\n",
    "\n",
    "\n",
    "results_stock"
   ],
   "metadata": {
    "collapsed": false,
    "ExecuteTime": {
     "end_time": "2024-09-26T15:06:53.080664600Z",
     "start_time": "2024-09-26T15:06:34.506485300Z"
    }
   },
   "id": "2a17540ac6964f61",
   "execution_count": 73
  },
  {
   "cell_type": "code",
   "outputs": [
    {
     "data": {
      "text/plain": "           model_name  test_acc   test_f1\n0     RidgeClassifier  0.278481  0.344967\n1  LogisticRegression  0.299110  0.423387\n2  CatBoostClassifier  0.321570  0.620908",
      "text/html": "<div>\n<style scoped>\n    .dataframe tbody tr th:only-of-type {\n        vertical-align: middle;\n    }\n\n    .dataframe tbody tr th {\n        vertical-align: top;\n    }\n\n    .dataframe thead th {\n        text-align: right;\n    }\n</style>\n<table border=\"1\" class=\"dataframe\">\n  <thead>\n    <tr style=\"text-align: right;\">\n      <th></th>\n      <th>model_name</th>\n      <th>test_acc</th>\n      <th>test_f1</th>\n    </tr>\n  </thead>\n  <tbody>\n    <tr>\n      <th>0</th>\n      <td>RidgeClassifier</td>\n      <td>0.278481</td>\n      <td>0.344967</td>\n    </tr>\n    <tr>\n      <th>1</th>\n      <td>LogisticRegression</td>\n      <td>0.299110</td>\n      <td>0.423387</td>\n    </tr>\n    <tr>\n      <th>2</th>\n      <td>CatBoostClassifier</td>\n      <td>0.321570</td>\n      <td>0.620908</td>\n    </tr>\n  </tbody>\n</table>\n</div>"
     },
     "execution_count": 74,
     "metadata": {},
     "output_type": "execute_result"
    }
   ],
   "source": [
    "results_mod"
   ],
   "metadata": {
    "collapsed": false,
    "ExecuteTime": {
     "end_time": "2024-09-26T15:06:53.081661600Z",
     "start_time": "2024-09-26T15:06:53.070739700Z"
    }
   },
   "id": "a8e2bdbcda098991",
   "execution_count": 74
  },
  {
   "cell_type": "code",
   "outputs": [
    {
     "data": {
      "text/plain": "           model_name  test_acc   test_f1\n0     RidgeClassifier  0.277701  0.337495\n1  LogisticRegression  0.327043  0.475940\n2  CatBoostClassifier  0.321570  0.620908",
      "text/html": "<div>\n<style scoped>\n    .dataframe tbody tr th:only-of-type {\n        vertical-align: middle;\n    }\n\n    .dataframe tbody tr th {\n        vertical-align: top;\n    }\n\n    .dataframe thead th {\n        text-align: right;\n    }\n</style>\n<table border=\"1\" class=\"dataframe\">\n  <thead>\n    <tr style=\"text-align: right;\">\n      <th></th>\n      <th>model_name</th>\n      <th>test_acc</th>\n      <th>test_f1</th>\n    </tr>\n  </thead>\n  <tbody>\n    <tr>\n      <th>0</th>\n      <td>RidgeClassifier</td>\n      <td>0.277701</td>\n      <td>0.337495</td>\n    </tr>\n    <tr>\n      <th>1</th>\n      <td>LogisticRegression</td>\n      <td>0.327043</td>\n      <td>0.475940</td>\n    </tr>\n    <tr>\n      <th>2</th>\n      <td>CatBoostClassifier</td>\n      <td>0.321570</td>\n      <td>0.620908</td>\n    </tr>\n  </tbody>\n</table>\n</div>"
     },
     "execution_count": 75,
     "metadata": {},
     "output_type": "execute_result"
    }
   ],
   "source": [
    "results_mod_normalised"
   ],
   "metadata": {
    "collapsed": false,
    "ExecuteTime": {
     "end_time": "2024-09-26T15:06:53.095423900Z",
     "start_time": "2024-09-26T15:06:53.076674100Z"
    }
   },
   "id": "50ccd76c615a7bfc",
   "execution_count": 75
  },
  {
   "cell_type": "code",
   "outputs": [
    {
     "name": "stdout",
     "output_type": "stream",
     "text": [
      "              precision    recall  f1-score   support\n",
      "\n",
      "           3       0.00      0.00      0.00         2\n",
      "           4       0.00      0.00      0.00        10\n",
      "           5       0.72      0.71      0.71       145\n",
      "           6       0.62      0.64      0.63       138\n",
      "           7       0.49      0.58      0.53        43\n",
      "           8       0.00      0.00      0.00         5\n",
      "\n",
      "    accuracy                           0.63       343\n",
      "   macro avg       0.30      0.32      0.31       343\n",
      "weighted avg       0.61      0.63      0.62       343\n"
     ]
    },
    {
     "name": "stderr",
     "output_type": "stream",
     "text": [
      "C:\\Users\\slava\\PycharmProjects\\mmad2\\.venv\\Lib\\site-packages\\sklearn\\metrics\\_classification.py:1531: UndefinedMetricWarning: Precision is ill-defined and being set to 0.0 in labels with no predicted samples. Use `zero_division` parameter to control this behavior.\n",
      "  _warn_prf(average, modifier, f\"{metric.capitalize()} is\", len(result))\n",
      "C:\\Users\\slava\\PycharmProjects\\mmad2\\.venv\\Lib\\site-packages\\sklearn\\metrics\\_classification.py:1531: UndefinedMetricWarning: Precision is ill-defined and being set to 0.0 in labels with no predicted samples. Use `zero_division` parameter to control this behavior.\n",
      "  _warn_prf(average, modifier, f\"{metric.capitalize()} is\", len(result))\n",
      "C:\\Users\\slava\\PycharmProjects\\mmad2\\.venv\\Lib\\site-packages\\sklearn\\metrics\\_classification.py:1531: UndefinedMetricWarning: Precision is ill-defined and being set to 0.0 in labels with no predicted samples. Use `zero_division` parameter to control this behavior.\n",
      "  _warn_prf(average, modifier, f\"{metric.capitalize()} is\", len(result))\n"
     ]
    }
   ],
   "source": [
    "model.fit(X_train, y_train)\n",
    "y_pred = model.predict(X_test)\n",
    "print(classification_report(y_test, y_pred))"
   ],
   "metadata": {
    "collapsed": false,
    "ExecuteTime": {
     "end_time": "2024-09-26T15:07:00.427149600Z",
     "start_time": "2024-09-26T15:06:53.087373800Z"
    }
   },
   "id": "ad65713e7032d129",
   "execution_count": 76
  }
 ],
 "metadata": {
  "kernelspec": {
   "display_name": "Python 3",
   "language": "python",
   "name": "python3"
  },
  "language_info": {
   "codemirror_mode": {
    "name": "ipython",
    "version": 2
   },
   "file_extension": ".py",
   "mimetype": "text/x-python",
   "name": "python",
   "nbconvert_exporter": "python",
   "pygments_lexer": "ipython2",
   "version": "2.7.6"
  }
 },
 "nbformat": 4,
 "nbformat_minor": 5
}
