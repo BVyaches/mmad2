{
 "cells": [
  {
   "cell_type": "markdown",
   "metadata": {},
   "source": [
    "# Задание \n",
    "### Разработать простейший чат бот, QA или KGQA систему.\n",
    "1) Создать собственный список вопросов и правильных ответов;\n",
    "2) Создать тестовый набор вопросов для системы\n",
    "3) Выполнить предварительную обработку вопросов\n",
    "4) Преобразовать вопросы в вектора с помощью Bag of Words и TfIDF\n",
    "5) Выполнить поиск наиболее схожего вопроса с помощью оценки косинусного расстояния, коэффициента корреляции, расстояния Жаккара, коэффициента сходства Рэнда\n",
    "6) Вывести ответ исходя из схожести вопроса"
   ]
  },
  {
   "cell_type": "code",
   "metadata": {
    "ExecuteTime": {
     "end_time": "2024-12-09T20:00:56.932056Z",
     "start_time": "2024-12-09T20:00:54.591257Z"
    }
   },
   "source": [
    "import pandas as pd\n",
    "import numpy as np\n",
    "import spacy\n",
    "\n",
    "nlp = spacy.load('ru_core_news_md')\n",
    "import string\n"
   ],
   "outputs": [],
   "execution_count": 3
  },
  {
   "cell_type": "markdown",
   "metadata": {},
   "source": [
    "###  Данные"
   ]
  },
  {
   "cell_type": "code",
   "metadata": {
    "ExecuteTime": {
     "end_time": "2024-12-09T20:00:58.012411Z",
     "start_time": "2024-12-09T20:00:58.006773Z"
    }
   },
   "source": [
    "questions = [\n",
    "    \"1. Какое пиво выбрать, если я не люблю горький вкус?\",\n",
    "    \"2. Что лучше: светлое или темное пиво?\",\n",
    "    \"3. Какое пиво подойдет для жаркого дня?\",\n",
    "    \"4. Какое пиво выбрать для дружеской вечеринки?\",\n",
    "    \"5. Есть ли пиво с низким содержанием алкоголя?\",\n",
    "    \"6. Какое пиво подойдет для любителей фруктовых вкусов?\",\n",
    "    \"7. Как выбрать крафтовое пиво, если раньше пил только массовые бренды?\",\n",
    "    \"8. Какое пиво лучше сочетается с мясными блюдами?\",\n",
    "    \"9. Какое пиво подойдет для морепродуктов?\",\n",
    "    \"10. Есть ли безглютеновое пиво для тех, кто избегает глютена?\",\n",
    "    \"11. На что обращать внимание при выборе импортного пива?\",\n",
    "    \"12. Какое пиво взять, чтобы попробовать что-то необычное?\",\n",
    "    \"13. Что такое IPA и кому оно может подойти?\",\n",
    "    \"14. Как понять, свежее ли пиво в магазине?\",\n",
    "    \"15. Какой объем лучше выбрать: маленькую бутылку, большую или банку?\"\n",
    "]\n",
    "\n",
    "# answers\n",
    "answers = [\n",
    "    \"1. Если не любите горький вкус, выбирайте светлое пиво в стиле лагера или пшеничное (вайцен). Они мягкие и освежающие.\",\n",
    "    \"2. Выбор зависит от предпочтений: светлое пиво легче и свежее, темное имеет более насыщенный карамельный или кофейный вкус.\",\n",
    "    \"3. В жару идеально подойдут легкие лагеры или пшеничное пиво, например, бельгийский белый эль (witbier).\",\n",
    "    \"4. Для вечеринки лучше брать универсальное светлое пиво, которое понравится большинству, например, лагеры или пильзнеры.\",\n",
    "    \"5. Да, есть категории с низким содержанием алкоголя, например, пиво 2.5-3.5% или безалкогольное пиво.\",\n",
    "    \"6. Фруктовые ламбики, например, крик (вишневый) или пиво с добавлением манго, ананаса — отличный выбор.\",\n",
    "    \"7. Начните с мягких и доступных крафтовых сортов, таких как APA (American Pale Ale) или session IPA.\",\n",
    "    \"8. С мясом хорошо сочетаются стауты или копченое пиво (rauchbier), они дополняют вкус блюд.\",\n",
    "    \"9. Морепродукты отлично идут с лёгкими лагерами или пшеничными сортами.\",\n",
    "    \"10. Да, безглютеновое пиво существует, ищите специальную маркировку на упаковке.\",\n",
    "    \"11. Смотрите на свежесть (срок годности), стиль и репутацию бренда. Выбирайте проверенные сорта.\",\n",
    "    \"12. Для необычного вкуса попробуйте кисло-сладкие сорта, например, гёз (gueuze) или пиво с выдержкой в бочке.\",\n",
    "    \"13. IPA (India Pale Ale) славится ярким хмелевым вкусом и ароматом, подходит для любителей насыщенных и горьковатых напитков.\",\n",
    "    \"14. Проверяйте дату производства: свежее пиво обычно имеет срок годности не более 6 месяцев.\",\n",
    "    \"15. Маленькие бутылки и банки удобны для дегустации, большие подойдут для компаний или вечеринок.\"\n",
    "]"
   ],
   "outputs": [],
   "execution_count": 4
  },
  {
   "cell_type": "code",
   "metadata": {
    "ExecuteTime": {
     "end_time": "2024-12-09T20:02:32.780317Z",
     "start_time": "2024-12-09T20:02:32.776134Z"
    }
   },
   "source": "test_question = \"Устал после работы, хочется легкое пиво чтобы расслабиться, какое пиво выбрать?\"",
   "outputs": [],
   "execution_count": 5
  },
  {
   "cell_type": "code",
   "metadata": {
    "ExecuteTime": {
     "end_time": "2024-12-09T20:02:35.406971Z",
     "start_time": "2024-12-09T20:02:35.403308Z"
    }
   },
   "source": [
    "from sklearn.feature_extraction.text import CountVectorizer # Bag of Words\n",
    "from sklearn.feature_extraction.text import TfidfVectorizer # Tfidf"
   ],
   "outputs": [],
   "execution_count": 7
  },
  {
   "cell_type": "code",
   "metadata": {
    "ExecuteTime": {
     "end_time": "2024-12-09T20:02:35.547106Z",
     "start_time": "2024-12-09T20:02:35.417993Z"
    }
   },
   "source": [
    "#Добавялем наш вопрос к вопросам\n",
    "questions.append(test_question)\n",
    "fitered_questions = []\n",
    "\n",
    "#Предобработка\n",
    "for text in questions:\n",
    "    doc = nlp(text)\n",
    "    fitered_questions.append([token.lemma_ for token in doc if not token.is_stop and not token.is_punct])\n",
    "\n",
    "fitered_questions = [' '.join(text) for text in fitered_questions ]"
   ],
   "outputs": [],
   "execution_count": 8
  },
  {
   "cell_type": "code",
   "metadata": {
    "ExecuteTime": {
     "end_time": "2024-12-09T20:02:36.076651Z",
     "start_time": "2024-12-09T20:02:36.065371Z"
    }
   },
   "source": [
    "cv = CountVectorizer()\n",
    "questions_cv = cv.fit_transform(fitered_questions)\n",
    "\n",
    "questions_cv = pd.DataFrame(questions_cv.toarray(), columns = cv.get_feature_names_out())\n",
    "\n",
    "tfidf = TfidfVectorizer()\n",
    "questions_tfidf = tfidf.fit_transform(fitered_questions)\n",
    "questions_tfidf = pd.DataFrame(questions_tfidf.toarray(), columns = tfidf.get_feature_names_out())\n"
   ],
   "outputs": [],
   "execution_count": 9
  },
  {
   "cell_type": "code",
   "metadata": {
    "ExecuteTime": {
     "end_time": "2024-12-09T20:02:36.427268Z",
     "start_time": "2024-12-09T20:02:36.409622Z"
    }
   },
   "source": [
    "questions_cv.head()"
   ],
   "outputs": [
    {
     "data": {
      "text/plain": [
       "   10  11  12  13  14  15  ipa  алкоголь  банка  безглютеновое  ...  \\\n",
       "0   0   0   0   0   0   0    0         0      0              0  ...   \n",
       "1   0   0   0   0   0   0    0         0      0              0  ...   \n",
       "2   0   0   0   0   0   0    0         0      0              0  ...   \n",
       "3   0   0   0   0   0   0    0         0      0              0  ...   \n",
       "4   0   0   0   0   0   0    0         1      0              0  ...   \n",
       "\n",
       "   расслабиться  свежий  светлый  содержание  сочетаться  тёмный  устать  \\\n",
       "0             0       0        0           0           0       0       0   \n",
       "1             0       0        1           0           0       1       0   \n",
       "2             0       0        0           0           0       0       0   \n",
       "3             0       0        0           0           0       0       0   \n",
       "4             0       0        0           1           0       0       0   \n",
       "\n",
       "   фруктовый  хороший  хотеться  \n",
       "0          0        0         0  \n",
       "1          0        1         0  \n",
       "2          0        0         0  \n",
       "3          0        0         0  \n",
       "4          0        0         0  \n",
       "\n",
       "[5 rows x 58 columns]"
      ],
      "text/html": [
       "<div>\n",
       "<style scoped>\n",
       "    .dataframe tbody tr th:only-of-type {\n",
       "        vertical-align: middle;\n",
       "    }\n",
       "\n",
       "    .dataframe tbody tr th {\n",
       "        vertical-align: top;\n",
       "    }\n",
       "\n",
       "    .dataframe thead th {\n",
       "        text-align: right;\n",
       "    }\n",
       "</style>\n",
       "<table border=\"1\" class=\"dataframe\">\n",
       "  <thead>\n",
       "    <tr style=\"text-align: right;\">\n",
       "      <th></th>\n",
       "      <th>10</th>\n",
       "      <th>11</th>\n",
       "      <th>12</th>\n",
       "      <th>13</th>\n",
       "      <th>14</th>\n",
       "      <th>15</th>\n",
       "      <th>ipa</th>\n",
       "      <th>алкоголь</th>\n",
       "      <th>банка</th>\n",
       "      <th>безглютеновое</th>\n",
       "      <th>...</th>\n",
       "      <th>расслабиться</th>\n",
       "      <th>свежий</th>\n",
       "      <th>светлый</th>\n",
       "      <th>содержание</th>\n",
       "      <th>сочетаться</th>\n",
       "      <th>тёмный</th>\n",
       "      <th>устать</th>\n",
       "      <th>фруктовый</th>\n",
       "      <th>хороший</th>\n",
       "      <th>хотеться</th>\n",
       "    </tr>\n",
       "  </thead>\n",
       "  <tbody>\n",
       "    <tr>\n",
       "      <th>0</th>\n",
       "      <td>0</td>\n",
       "      <td>0</td>\n",
       "      <td>0</td>\n",
       "      <td>0</td>\n",
       "      <td>0</td>\n",
       "      <td>0</td>\n",
       "      <td>0</td>\n",
       "      <td>0</td>\n",
       "      <td>0</td>\n",
       "      <td>0</td>\n",
       "      <td>...</td>\n",
       "      <td>0</td>\n",
       "      <td>0</td>\n",
       "      <td>0</td>\n",
       "      <td>0</td>\n",
       "      <td>0</td>\n",
       "      <td>0</td>\n",
       "      <td>0</td>\n",
       "      <td>0</td>\n",
       "      <td>0</td>\n",
       "      <td>0</td>\n",
       "    </tr>\n",
       "    <tr>\n",
       "      <th>1</th>\n",
       "      <td>0</td>\n",
       "      <td>0</td>\n",
       "      <td>0</td>\n",
       "      <td>0</td>\n",
       "      <td>0</td>\n",
       "      <td>0</td>\n",
       "      <td>0</td>\n",
       "      <td>0</td>\n",
       "      <td>0</td>\n",
       "      <td>0</td>\n",
       "      <td>...</td>\n",
       "      <td>0</td>\n",
       "      <td>0</td>\n",
       "      <td>1</td>\n",
       "      <td>0</td>\n",
       "      <td>0</td>\n",
       "      <td>1</td>\n",
       "      <td>0</td>\n",
       "      <td>0</td>\n",
       "      <td>1</td>\n",
       "      <td>0</td>\n",
       "    </tr>\n",
       "    <tr>\n",
       "      <th>2</th>\n",
       "      <td>0</td>\n",
       "      <td>0</td>\n",
       "      <td>0</td>\n",
       "      <td>0</td>\n",
       "      <td>0</td>\n",
       "      <td>0</td>\n",
       "      <td>0</td>\n",
       "      <td>0</td>\n",
       "      <td>0</td>\n",
       "      <td>0</td>\n",
       "      <td>...</td>\n",
       "      <td>0</td>\n",
       "      <td>0</td>\n",
       "      <td>0</td>\n",
       "      <td>0</td>\n",
       "      <td>0</td>\n",
       "      <td>0</td>\n",
       "      <td>0</td>\n",
       "      <td>0</td>\n",
       "      <td>0</td>\n",
       "      <td>0</td>\n",
       "    </tr>\n",
       "    <tr>\n",
       "      <th>3</th>\n",
       "      <td>0</td>\n",
       "      <td>0</td>\n",
       "      <td>0</td>\n",
       "      <td>0</td>\n",
       "      <td>0</td>\n",
       "      <td>0</td>\n",
       "      <td>0</td>\n",
       "      <td>0</td>\n",
       "      <td>0</td>\n",
       "      <td>0</td>\n",
       "      <td>...</td>\n",
       "      <td>0</td>\n",
       "      <td>0</td>\n",
       "      <td>0</td>\n",
       "      <td>0</td>\n",
       "      <td>0</td>\n",
       "      <td>0</td>\n",
       "      <td>0</td>\n",
       "      <td>0</td>\n",
       "      <td>0</td>\n",
       "      <td>0</td>\n",
       "    </tr>\n",
       "    <tr>\n",
       "      <th>4</th>\n",
       "      <td>0</td>\n",
       "      <td>0</td>\n",
       "      <td>0</td>\n",
       "      <td>0</td>\n",
       "      <td>0</td>\n",
       "      <td>0</td>\n",
       "      <td>0</td>\n",
       "      <td>1</td>\n",
       "      <td>0</td>\n",
       "      <td>0</td>\n",
       "      <td>...</td>\n",
       "      <td>0</td>\n",
       "      <td>0</td>\n",
       "      <td>0</td>\n",
       "      <td>1</td>\n",
       "      <td>0</td>\n",
       "      <td>0</td>\n",
       "      <td>0</td>\n",
       "      <td>0</td>\n",
       "      <td>0</td>\n",
       "      <td>0</td>\n",
       "    </tr>\n",
       "  </tbody>\n",
       "</table>\n",
       "<p>5 rows × 58 columns</p>\n",
       "</div>"
      ]
     },
     "execution_count": 10,
     "metadata": {},
     "output_type": "execute_result"
    }
   ],
   "execution_count": 10
  },
  {
   "cell_type": "code",
   "metadata": {
    "ExecuteTime": {
     "end_time": "2024-12-09T20:02:37.463080Z",
     "start_time": "2024-12-09T20:02:37.443174Z"
    }
   },
   "source": [
    "questions_tfidf.head()"
   ],
   "outputs": [
    {
     "data": {
      "text/plain": [
       "    10   11   12   13   14   15  ipa  алкоголь  банка  безглютеновое  ...  \\\n",
       "0  0.0  0.0  0.0  0.0  0.0  0.0  0.0  0.000000    0.0            0.0  ...   \n",
       "1  0.0  0.0  0.0  0.0  0.0  0.0  0.0  0.000000    0.0            0.0  ...   \n",
       "2  0.0  0.0  0.0  0.0  0.0  0.0  0.0  0.000000    0.0            0.0  ...   \n",
       "3  0.0  0.0  0.0  0.0  0.0  0.0  0.0  0.000000    0.0            0.0  ...   \n",
       "4  0.0  0.0  0.0  0.0  0.0  0.0  0.0  0.565378    0.0            0.0  ...   \n",
       "\n",
       "   расслабиться  свежий   светлый  содержание  сочетаться    тёмный  устать  \\\n",
       "0           0.0     0.0  0.000000    0.000000         0.0  0.000000     0.0   \n",
       "1           0.0     0.0  0.588559    0.000000         0.0  0.588559     0.0   \n",
       "2           0.0     0.0  0.000000    0.000000         0.0  0.000000     0.0   \n",
       "3           0.0     0.0  0.000000    0.000000         0.0  0.000000     0.0   \n",
       "4           0.0     0.0  0.000000    0.565378         0.0  0.000000     0.0   \n",
       "\n",
       "   фруктовый   хороший  хотеться  \n",
       "0        0.0  0.000000       0.0  \n",
       "1        0.0  0.512561       0.0  \n",
       "2        0.0  0.000000       0.0  \n",
       "3        0.0  0.000000       0.0  \n",
       "4        0.0  0.000000       0.0  \n",
       "\n",
       "[5 rows x 58 columns]"
      ],
      "text/html": [
       "<div>\n",
       "<style scoped>\n",
       "    .dataframe tbody tr th:only-of-type {\n",
       "        vertical-align: middle;\n",
       "    }\n",
       "\n",
       "    .dataframe tbody tr th {\n",
       "        vertical-align: top;\n",
       "    }\n",
       "\n",
       "    .dataframe thead th {\n",
       "        text-align: right;\n",
       "    }\n",
       "</style>\n",
       "<table border=\"1\" class=\"dataframe\">\n",
       "  <thead>\n",
       "    <tr style=\"text-align: right;\">\n",
       "      <th></th>\n",
       "      <th>10</th>\n",
       "      <th>11</th>\n",
       "      <th>12</th>\n",
       "      <th>13</th>\n",
       "      <th>14</th>\n",
       "      <th>15</th>\n",
       "      <th>ipa</th>\n",
       "      <th>алкоголь</th>\n",
       "      <th>банка</th>\n",
       "      <th>безглютеновое</th>\n",
       "      <th>...</th>\n",
       "      <th>расслабиться</th>\n",
       "      <th>свежий</th>\n",
       "      <th>светлый</th>\n",
       "      <th>содержание</th>\n",
       "      <th>сочетаться</th>\n",
       "      <th>тёмный</th>\n",
       "      <th>устать</th>\n",
       "      <th>фруктовый</th>\n",
       "      <th>хороший</th>\n",
       "      <th>хотеться</th>\n",
       "    </tr>\n",
       "  </thead>\n",
       "  <tbody>\n",
       "    <tr>\n",
       "      <th>0</th>\n",
       "      <td>0.0</td>\n",
       "      <td>0.0</td>\n",
       "      <td>0.0</td>\n",
       "      <td>0.0</td>\n",
       "      <td>0.0</td>\n",
       "      <td>0.0</td>\n",
       "      <td>0.0</td>\n",
       "      <td>0.000000</td>\n",
       "      <td>0.0</td>\n",
       "      <td>0.0</td>\n",
       "      <td>...</td>\n",
       "      <td>0.0</td>\n",
       "      <td>0.0</td>\n",
       "      <td>0.000000</td>\n",
       "      <td>0.000000</td>\n",
       "      <td>0.0</td>\n",
       "      <td>0.000000</td>\n",
       "      <td>0.0</td>\n",
       "      <td>0.0</td>\n",
       "      <td>0.000000</td>\n",
       "      <td>0.0</td>\n",
       "    </tr>\n",
       "    <tr>\n",
       "      <th>1</th>\n",
       "      <td>0.0</td>\n",
       "      <td>0.0</td>\n",
       "      <td>0.0</td>\n",
       "      <td>0.0</td>\n",
       "      <td>0.0</td>\n",
       "      <td>0.0</td>\n",
       "      <td>0.0</td>\n",
       "      <td>0.000000</td>\n",
       "      <td>0.0</td>\n",
       "      <td>0.0</td>\n",
       "      <td>...</td>\n",
       "      <td>0.0</td>\n",
       "      <td>0.0</td>\n",
       "      <td>0.588559</td>\n",
       "      <td>0.000000</td>\n",
       "      <td>0.0</td>\n",
       "      <td>0.588559</td>\n",
       "      <td>0.0</td>\n",
       "      <td>0.0</td>\n",
       "      <td>0.512561</td>\n",
       "      <td>0.0</td>\n",
       "    </tr>\n",
       "    <tr>\n",
       "      <th>2</th>\n",
       "      <td>0.0</td>\n",
       "      <td>0.0</td>\n",
       "      <td>0.0</td>\n",
       "      <td>0.0</td>\n",
       "      <td>0.0</td>\n",
       "      <td>0.0</td>\n",
       "      <td>0.0</td>\n",
       "      <td>0.000000</td>\n",
       "      <td>0.0</td>\n",
       "      <td>0.0</td>\n",
       "      <td>...</td>\n",
       "      <td>0.0</td>\n",
       "      <td>0.0</td>\n",
       "      <td>0.000000</td>\n",
       "      <td>0.000000</td>\n",
       "      <td>0.0</td>\n",
       "      <td>0.000000</td>\n",
       "      <td>0.0</td>\n",
       "      <td>0.0</td>\n",
       "      <td>0.000000</td>\n",
       "      <td>0.0</td>\n",
       "    </tr>\n",
       "    <tr>\n",
       "      <th>3</th>\n",
       "      <td>0.0</td>\n",
       "      <td>0.0</td>\n",
       "      <td>0.0</td>\n",
       "      <td>0.0</td>\n",
       "      <td>0.0</td>\n",
       "      <td>0.0</td>\n",
       "      <td>0.0</td>\n",
       "      <td>0.000000</td>\n",
       "      <td>0.0</td>\n",
       "      <td>0.0</td>\n",
       "      <td>...</td>\n",
       "      <td>0.0</td>\n",
       "      <td>0.0</td>\n",
       "      <td>0.000000</td>\n",
       "      <td>0.000000</td>\n",
       "      <td>0.0</td>\n",
       "      <td>0.000000</td>\n",
       "      <td>0.0</td>\n",
       "      <td>0.0</td>\n",
       "      <td>0.000000</td>\n",
       "      <td>0.0</td>\n",
       "    </tr>\n",
       "    <tr>\n",
       "      <th>4</th>\n",
       "      <td>0.0</td>\n",
       "      <td>0.0</td>\n",
       "      <td>0.0</td>\n",
       "      <td>0.0</td>\n",
       "      <td>0.0</td>\n",
       "      <td>0.0</td>\n",
       "      <td>0.0</td>\n",
       "      <td>0.565378</td>\n",
       "      <td>0.0</td>\n",
       "      <td>0.0</td>\n",
       "      <td>...</td>\n",
       "      <td>0.0</td>\n",
       "      <td>0.0</td>\n",
       "      <td>0.000000</td>\n",
       "      <td>0.565378</td>\n",
       "      <td>0.0</td>\n",
       "      <td>0.000000</td>\n",
       "      <td>0.0</td>\n",
       "      <td>0.0</td>\n",
       "      <td>0.000000</td>\n",
       "      <td>0.0</td>\n",
       "    </tr>\n",
       "  </tbody>\n",
       "</table>\n",
       "<p>5 rows × 58 columns</p>\n",
       "</div>"
      ]
     },
     "execution_count": 11,
     "metadata": {},
     "output_type": "execute_result"
    }
   ],
   "execution_count": 11
  },
  {
   "cell_type": "code",
   "metadata": {
    "ExecuteTime": {
     "end_time": "2024-12-09T20:02:39.059888Z",
     "start_time": "2024-12-09T20:02:39.055673Z"
    }
   },
   "source": [
    "questions_cv = questions_cv.to_numpy()\n",
    "questions_tfidf = questions_tfidf.to_numpy()"
   ],
   "outputs": [],
   "execution_count": 12
  },
  {
   "cell_type": "code",
   "metadata": {
    "ExecuteTime": {
     "end_time": "2024-12-09T20:02:39.621485Z",
     "start_time": "2024-12-09T20:02:39.614041Z"
    }
   },
   "source": [
    "#Поиск ближайшего ответа с помощью косинуса \n",
    "from scipy import spatial\n",
    "\n",
    "#Bag of words\n",
    "best_sim = []\n",
    "for i in range(len(questions_cv)-1):\n",
    "    best_sim.append(1-spatial.distance.cosine(questions_cv[i,:], questions_cv[-1,:]))\n",
    "print('Bag of words, cosine similarity \\n', answers[best_sim.index(max(best_sim))])\n",
    "\n",
    "#Tfidf\n",
    "best_sim = []\n",
    "for i in range(len(questions_tfidf)-1):\n",
    "    best_sim.append(1-spatial.distance.cosine(questions_tfidf[i,:], questions_tfidf[-1,:]))\n",
    "print('TFidf, cosine similarity \\n', answers[best_sim.index(max(best_sim))])\n",
    "\n"
   ],
   "outputs": [
    {
     "name": "stdout",
     "output_type": "stream",
     "text": [
      "Bag of words, cosine similarity \n",
      " 4. Для вечеринки лучше брать универсальное светлое пиво, которое понравится большинству, например, лагеры или пильзнеры.\n",
      "TFidf, cosine similarity \n",
      " 4. Для вечеринки лучше брать универсальное светлое пиво, которое понравится большинству, например, лагеры или пильзнеры.\n"
     ]
    }
   ],
   "execution_count": 13
  },
  {
   "cell_type": "code",
   "metadata": {
    "ExecuteTime": {
     "end_time": "2024-12-09T20:02:40.243225Z",
     "start_time": "2024-12-09T20:02:40.205800Z"
    }
   },
   "source": [
    "#Поиск ближайшего ответа с помощью корреляции\n",
    "from scipy.stats import pearsonr\n",
    "#Bag of words\n",
    "best_sim = []\n",
    "for i in range(len(questions_cv)-1):\n",
    "    best_sim.append(pearsonr(questions_cv[i,:], questions_cv[-1,:])[0])\n",
    "print('Bag of words, pearson correlation \\n', answers[best_sim.index(max(best_sim))])\n",
    "\n",
    "#Tfidf\n",
    "best_sim = []\n",
    "for i in range(len(questions_tfidf)-1):\n",
    "    best_sim.append(pearsonr(questions_tfidf[i,:], questions_tfidf[-1,:])[0])\n",
    "print('TFidf, pearson correlation \\n', answers[best_sim.index(max(best_sim))])"
   ],
   "outputs": [
    {
     "name": "stdout",
     "output_type": "stream",
     "text": [
      "Bag of words, pearson correlation \n",
      " 4. Для вечеринки лучше брать универсальное светлое пиво, которое понравится большинству, например, лагеры или пильзнеры.\n",
      "TFidf, pearson correlation \n",
      " 4. Для вечеринки лучше брать универсальное светлое пиво, которое понравится большинству, например, лагеры или пильзнеры.\n"
     ]
    }
   ],
   "execution_count": 14
  },
  {
   "cell_type": "code",
   "metadata": {
    "ExecuteTime": {
     "end_time": "2024-12-09T20:02:41.519887Z",
     "start_time": "2024-12-09T20:02:41.513996Z"
    }
   },
   "source": [
    "#Поиск ближайшего ответа с помощью коэффициента Жаккара\n",
    "\n",
    "#Bag of words\n",
    "best_sim = []\n",
    "for i in range(len(questions_cv)-1):\n",
    "    best_sim.append(1-spatial.distance.jaccard(questions_cv[i,:], questions_cv[-1,:]))\n",
    "print('Bag of words, Jaccard score  \\n', answers[best_sim.index(max(best_sim))])\n",
    "\n",
    "#Tfidf\n",
    "best_sim = []\n",
    "for i in range(len(questions_tfidf)-1):\n",
    "    best_sim.append(1-spatial.distance.jaccard(questions_cv[i,:], questions_cv[-1,:]))\n",
    "print('TFidf, Jaccard score \\n', answers[best_sim.index(max(best_sim))])\n",
    "\n"
   ],
   "outputs": [
    {
     "name": "stdout",
     "output_type": "stream",
     "text": [
      "Bag of words, Jaccard score  \n",
      " 4. Для вечеринки лучше брать универсальное светлое пиво, которое понравится большинству, например, лагеры или пильзнеры.\n",
      "TFidf, Jaccard score \n",
      " 4. Для вечеринки лучше брать универсальное светлое пиво, которое понравится большинству, например, лагеры или пильзнеры.\n"
     ]
    }
   ],
   "execution_count": 15
  },
  {
   "cell_type": "code",
   "metadata": {
    "ExecuteTime": {
     "end_time": "2024-12-09T20:02:42.869470Z",
     "start_time": "2024-12-09T20:02:42.502919Z"
    }
   },
   "source": [
    "#Поиск ближайшего ответа с помощью коэффициент сходства Рэнда (простой коэффициент соответствия)\n",
    "from sklearn.metrics.cluster import rand_score\n",
    "#Bag of words\n",
    "best_sim = []\n",
    "for i in range(len(questions_cv)-1):\n",
    "    best_sim.append(rand_score(questions_cv[i,:], questions_cv[-1,:]))\n",
    "print('Bag of words, Rand Idx score  \\n', answers[best_sim.index(max(best_sim))])\n",
    "#Tfidf\n",
    "best_sim = []\n",
    "for i in range(len(questions_tfidf)-1):\n",
    "    best_sim.append(rand_score(questions_cv[i,:], questions_cv[-1,:]))\n",
    "print('TFidf, Rand Idx score \\n', answers[best_sim.index(max(best_sim))])\n"
   ],
   "outputs": [
    {
     "name": "stdout",
     "output_type": "stream",
     "text": [
      "Bag of words, Rand Idx score  \n",
      " 4. Для вечеринки лучше брать универсальное светлое пиво, которое понравится большинству, например, лагеры или пильзнеры.\n",
      "TFidf, Rand Idx score \n",
      " 4. Для вечеринки лучше брать универсальное светлое пиво, которое понравится большинству, например, лагеры или пильзнеры.\n"
     ]
    }
   ],
   "execution_count": 16
  },
  {
   "metadata": {},
   "cell_type": "code",
   "outputs": [],
   "execution_count": null,
   "source": ""
  }
 ],
 "metadata": {
  "kernelspec": {
   "display_name": "Python 3",
   "language": "python",
   "name": "python3"
  },
  "language_info": {
   "codemirror_mode": {
    "name": "ipython",
    "version": 3
   },
   "file_extension": ".py",
   "mimetype": "text/x-python",
   "name": "python",
   "nbconvert_exporter": "python",
   "pygments_lexer": "ipython3",
   "version": "3.11.4"
  }
 },
 "nbformat": 4,
 "nbformat_minor": 4
}
