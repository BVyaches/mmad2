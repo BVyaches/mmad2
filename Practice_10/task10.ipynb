{
 "cells": [
  {
   "cell_type": "code",
   "id": "initial_id",
   "metadata": {
    "collapsed": true,
    "ExecuteTime": {
     "end_time": "2024-11-28T19:18:10.295279Z",
     "start_time": "2024-11-28T19:18:10.291115Z"
    }
   },
   "source": [
    "import pandas as pd\n",
    "import numpy as np\n",
    "import plotly.express as px\n",
    "import plotly.graph_objects as go\n",
    "import matplotlib.pyplot as plt\n",
    "import seaborn as sns\n",
    "from sklearn.model_selection import train_test_split\n",
    "from sklearn.preprocessing import LabelEncoder"
   ],
   "outputs": [],
   "execution_count": 18
  },
  {
   "cell_type": "code",
   "source": [
    "data = pd.read_csv('gym_members_exercise_tracking.csv')\n",
    "data.sample(5)"
   ],
   "metadata": {
    "collapsed": false,
    "ExecuteTime": {
     "end_time": "2024-11-28T19:18:10.403199Z",
     "start_time": "2024-11-28T19:18:10.388393Z"
    }
   },
   "id": "33f4d0888e3b0e23",
   "outputs": [
    {
     "data": {
      "text/plain": [
       "     Age  Gender  Weight (kg)  Height (m)  Max_BPM  Avg_BPM  Resting_BPM  \\\n",
       "574   44    Male        124.8        1.85      175      126           69   \n",
       "221   49    Male         82.1        1.86      162      160           64   \n",
       "154   45    Male        113.4        1.71      190      129           63   \n",
       "941   21    Male         67.0        1.61      161      152           74   \n",
       "531   53  Female         53.3        1.74      173      156           54   \n",
       "\n",
       "     Session_Duration (hours)  Calories_Burned Workout_Type  Fat_Percentage  \\\n",
       "574                      1.35            842.0     Strength            24.4   \n",
       "221                      1.87           1481.0     Strength            14.2   \n",
       "154                      0.83            530.0     Strength            24.0   \n",
       "941                      1.32           1104.0         Yoga            22.0   \n",
       "531                      1.37            962.0     Strength            32.2   \n",
       "\n",
       "     Water_Intake (liters)  Workout_Frequency (days/week)  Experience_Level  \\\n",
       "574                    3.5                              4                 2   \n",
       "221                    3.5                              4                 3   \n",
       "154                    2.3                              2                 1   \n",
       "941                    2.1                              3                 2   \n",
       "531                    1.8                              3                 2   \n",
       "\n",
       "       BMI  \n",
       "574  36.46  \n",
       "221  23.73  \n",
       "154  38.78  \n",
       "941  25.85  \n",
       "531  17.60  "
      ],
      "text/html": [
       "<div>\n",
       "<style scoped>\n",
       "    .dataframe tbody tr th:only-of-type {\n",
       "        vertical-align: middle;\n",
       "    }\n",
       "\n",
       "    .dataframe tbody tr th {\n",
       "        vertical-align: top;\n",
       "    }\n",
       "\n",
       "    .dataframe thead th {\n",
       "        text-align: right;\n",
       "    }\n",
       "</style>\n",
       "<table border=\"1\" class=\"dataframe\">\n",
       "  <thead>\n",
       "    <tr style=\"text-align: right;\">\n",
       "      <th></th>\n",
       "      <th>Age</th>\n",
       "      <th>Gender</th>\n",
       "      <th>Weight (kg)</th>\n",
       "      <th>Height (m)</th>\n",
       "      <th>Max_BPM</th>\n",
       "      <th>Avg_BPM</th>\n",
       "      <th>Resting_BPM</th>\n",
       "      <th>Session_Duration (hours)</th>\n",
       "      <th>Calories_Burned</th>\n",
       "      <th>Workout_Type</th>\n",
       "      <th>Fat_Percentage</th>\n",
       "      <th>Water_Intake (liters)</th>\n",
       "      <th>Workout_Frequency (days/week)</th>\n",
       "      <th>Experience_Level</th>\n",
       "      <th>BMI</th>\n",
       "    </tr>\n",
       "  </thead>\n",
       "  <tbody>\n",
       "    <tr>\n",
       "      <th>574</th>\n",
       "      <td>44</td>\n",
       "      <td>Male</td>\n",
       "      <td>124.8</td>\n",
       "      <td>1.85</td>\n",
       "      <td>175</td>\n",
       "      <td>126</td>\n",
       "      <td>69</td>\n",
       "      <td>1.35</td>\n",
       "      <td>842.0</td>\n",
       "      <td>Strength</td>\n",
       "      <td>24.4</td>\n",
       "      <td>3.5</td>\n",
       "      <td>4</td>\n",
       "      <td>2</td>\n",
       "      <td>36.46</td>\n",
       "    </tr>\n",
       "    <tr>\n",
       "      <th>221</th>\n",
       "      <td>49</td>\n",
       "      <td>Male</td>\n",
       "      <td>82.1</td>\n",
       "      <td>1.86</td>\n",
       "      <td>162</td>\n",
       "      <td>160</td>\n",
       "      <td>64</td>\n",
       "      <td>1.87</td>\n",
       "      <td>1481.0</td>\n",
       "      <td>Strength</td>\n",
       "      <td>14.2</td>\n",
       "      <td>3.5</td>\n",
       "      <td>4</td>\n",
       "      <td>3</td>\n",
       "      <td>23.73</td>\n",
       "    </tr>\n",
       "    <tr>\n",
       "      <th>154</th>\n",
       "      <td>45</td>\n",
       "      <td>Male</td>\n",
       "      <td>113.4</td>\n",
       "      <td>1.71</td>\n",
       "      <td>190</td>\n",
       "      <td>129</td>\n",
       "      <td>63</td>\n",
       "      <td>0.83</td>\n",
       "      <td>530.0</td>\n",
       "      <td>Strength</td>\n",
       "      <td>24.0</td>\n",
       "      <td>2.3</td>\n",
       "      <td>2</td>\n",
       "      <td>1</td>\n",
       "      <td>38.78</td>\n",
       "    </tr>\n",
       "    <tr>\n",
       "      <th>941</th>\n",
       "      <td>21</td>\n",
       "      <td>Male</td>\n",
       "      <td>67.0</td>\n",
       "      <td>1.61</td>\n",
       "      <td>161</td>\n",
       "      <td>152</td>\n",
       "      <td>74</td>\n",
       "      <td>1.32</td>\n",
       "      <td>1104.0</td>\n",
       "      <td>Yoga</td>\n",
       "      <td>22.0</td>\n",
       "      <td>2.1</td>\n",
       "      <td>3</td>\n",
       "      <td>2</td>\n",
       "      <td>25.85</td>\n",
       "    </tr>\n",
       "    <tr>\n",
       "      <th>531</th>\n",
       "      <td>53</td>\n",
       "      <td>Female</td>\n",
       "      <td>53.3</td>\n",
       "      <td>1.74</td>\n",
       "      <td>173</td>\n",
       "      <td>156</td>\n",
       "      <td>54</td>\n",
       "      <td>1.37</td>\n",
       "      <td>962.0</td>\n",
       "      <td>Strength</td>\n",
       "      <td>32.2</td>\n",
       "      <td>1.8</td>\n",
       "      <td>3</td>\n",
       "      <td>2</td>\n",
       "      <td>17.60</td>\n",
       "    </tr>\n",
       "  </tbody>\n",
       "</table>\n",
       "</div>"
      ]
     },
     "execution_count": 19,
     "metadata": {},
     "output_type": "execute_result"
    }
   ],
   "execution_count": 19
  },
  {
   "metadata": {
    "ExecuteTime": {
     "end_time": "2024-11-28T19:18:10.476551Z",
     "start_time": "2024-11-28T19:18:10.471390Z"
    }
   },
   "cell_type": "code",
   "source": "data.shape",
   "id": "418836b4e3e93655",
   "outputs": [
    {
     "data": {
      "text/plain": [
       "(973, 15)"
      ]
     },
     "execution_count": 20,
     "metadata": {},
     "output_type": "execute_result"
    }
   ],
   "execution_count": 20
  },
  {
   "cell_type": "code",
   "source": [
    "data['Gender'] = (data['Gender'] == 'Male').astype(int)\n",
    "data.sample(5)"
   ],
   "metadata": {
    "collapsed": false,
    "ExecuteTime": {
     "end_time": "2024-11-28T19:18:10.535857Z",
     "start_time": "2024-11-28T19:18:10.522567Z"
    }
   },
   "id": "ce9f67b858add3ba",
   "outputs": [
    {
     "data": {
      "text/plain": [
       "     Age  Gender  Weight (kg)  Height (m)  Max_BPM  Avg_BPM  Resting_BPM  \\\n",
       "321   50       0         55.4        1.55      175      122           65   \n",
       "953   50       0         67.9        1.77      171      164           73   \n",
       "57    21       0         50.3        1.52      171      154           67   \n",
       "207   33       0         65.3        1.71      172      135           74   \n",
       "467   19       1         98.6        1.70      197      162           74   \n",
       "\n",
       "     Session_Duration (hours)  Calories_Burned Workout_Type  Fat_Percentage  \\\n",
       "321                      1.85           1016.0     Strength            18.5   \n",
       "953                      1.03            760.0         Yoga            33.0   \n",
       "57                       1.08            832.0       Cardio            32.2   \n",
       "207                      1.18            796.0         HIIT            29.7   \n",
       "467                      0.83            740.0       Cardio            21.1   \n",
       "\n",
       "     Water_Intake (liters)  Workout_Frequency (days/week)  Experience_Level  \\\n",
       "321                    2.7                              4                 3   \n",
       "953                    2.4                              3                 2   \n",
       "57                     2.6                              3                 1   \n",
       "207                    2.5                              4                 2   \n",
       "467                    2.4                              2                 1   \n",
       "\n",
       "       BMI  \n",
       "321  23.06  \n",
       "953  21.67  \n",
       "57   21.77  \n",
       "207  22.33  \n",
       "467  34.12  "
      ],
      "text/html": [
       "<div>\n",
       "<style scoped>\n",
       "    .dataframe tbody tr th:only-of-type {\n",
       "        vertical-align: middle;\n",
       "    }\n",
       "\n",
       "    .dataframe tbody tr th {\n",
       "        vertical-align: top;\n",
       "    }\n",
       "\n",
       "    .dataframe thead th {\n",
       "        text-align: right;\n",
       "    }\n",
       "</style>\n",
       "<table border=\"1\" class=\"dataframe\">\n",
       "  <thead>\n",
       "    <tr style=\"text-align: right;\">\n",
       "      <th></th>\n",
       "      <th>Age</th>\n",
       "      <th>Gender</th>\n",
       "      <th>Weight (kg)</th>\n",
       "      <th>Height (m)</th>\n",
       "      <th>Max_BPM</th>\n",
       "      <th>Avg_BPM</th>\n",
       "      <th>Resting_BPM</th>\n",
       "      <th>Session_Duration (hours)</th>\n",
       "      <th>Calories_Burned</th>\n",
       "      <th>Workout_Type</th>\n",
       "      <th>Fat_Percentage</th>\n",
       "      <th>Water_Intake (liters)</th>\n",
       "      <th>Workout_Frequency (days/week)</th>\n",
       "      <th>Experience_Level</th>\n",
       "      <th>BMI</th>\n",
       "    </tr>\n",
       "  </thead>\n",
       "  <tbody>\n",
       "    <tr>\n",
       "      <th>321</th>\n",
       "      <td>50</td>\n",
       "      <td>0</td>\n",
       "      <td>55.4</td>\n",
       "      <td>1.55</td>\n",
       "      <td>175</td>\n",
       "      <td>122</td>\n",
       "      <td>65</td>\n",
       "      <td>1.85</td>\n",
       "      <td>1016.0</td>\n",
       "      <td>Strength</td>\n",
       "      <td>18.5</td>\n",
       "      <td>2.7</td>\n",
       "      <td>4</td>\n",
       "      <td>3</td>\n",
       "      <td>23.06</td>\n",
       "    </tr>\n",
       "    <tr>\n",
       "      <th>953</th>\n",
       "      <td>50</td>\n",
       "      <td>0</td>\n",
       "      <td>67.9</td>\n",
       "      <td>1.77</td>\n",
       "      <td>171</td>\n",
       "      <td>164</td>\n",
       "      <td>73</td>\n",
       "      <td>1.03</td>\n",
       "      <td>760.0</td>\n",
       "      <td>Yoga</td>\n",
       "      <td>33.0</td>\n",
       "      <td>2.4</td>\n",
       "      <td>3</td>\n",
       "      <td>2</td>\n",
       "      <td>21.67</td>\n",
       "    </tr>\n",
       "    <tr>\n",
       "      <th>57</th>\n",
       "      <td>21</td>\n",
       "      <td>0</td>\n",
       "      <td>50.3</td>\n",
       "      <td>1.52</td>\n",
       "      <td>171</td>\n",
       "      <td>154</td>\n",
       "      <td>67</td>\n",
       "      <td>1.08</td>\n",
       "      <td>832.0</td>\n",
       "      <td>Cardio</td>\n",
       "      <td>32.2</td>\n",
       "      <td>2.6</td>\n",
       "      <td>3</td>\n",
       "      <td>1</td>\n",
       "      <td>21.77</td>\n",
       "    </tr>\n",
       "    <tr>\n",
       "      <th>207</th>\n",
       "      <td>33</td>\n",
       "      <td>0</td>\n",
       "      <td>65.3</td>\n",
       "      <td>1.71</td>\n",
       "      <td>172</td>\n",
       "      <td>135</td>\n",
       "      <td>74</td>\n",
       "      <td>1.18</td>\n",
       "      <td>796.0</td>\n",
       "      <td>HIIT</td>\n",
       "      <td>29.7</td>\n",
       "      <td>2.5</td>\n",
       "      <td>4</td>\n",
       "      <td>2</td>\n",
       "      <td>22.33</td>\n",
       "    </tr>\n",
       "    <tr>\n",
       "      <th>467</th>\n",
       "      <td>19</td>\n",
       "      <td>1</td>\n",
       "      <td>98.6</td>\n",
       "      <td>1.70</td>\n",
       "      <td>197</td>\n",
       "      <td>162</td>\n",
       "      <td>74</td>\n",
       "      <td>0.83</td>\n",
       "      <td>740.0</td>\n",
       "      <td>Cardio</td>\n",
       "      <td>21.1</td>\n",
       "      <td>2.4</td>\n",
       "      <td>2</td>\n",
       "      <td>1</td>\n",
       "      <td>34.12</td>\n",
       "    </tr>\n",
       "  </tbody>\n",
       "</table>\n",
       "</div>"
      ]
     },
     "execution_count": 21,
     "metadata": {},
     "output_type": "execute_result"
    }
   ],
   "execution_count": 21
  },
  {
   "cell_type": "code",
   "source": [
    "np.random.seed(113)\n",
    "X_train, X_test, y_train, y_test = train_test_split(\n",
    "    data.drop(columns=['Workout_Type']), data['Workout_Type'], test_size=0.3,\n",
    "    stratify=data['Workout_Type'])"
   ],
   "metadata": {
    "collapsed": false,
    "ExecuteTime": {
     "end_time": "2024-11-28T19:18:10.784015Z",
     "start_time": "2024-11-28T19:18:10.776286Z"
    }
   },
   "id": "d2fc173591ec60be",
   "outputs": [],
   "execution_count": 22
  },
  {
   "cell_type": "code",
   "source": [
    "fig = go.Figure()\n",
    "\n",
    "fig.add_trace(go.Histogram(x=y_train,\n",
    "                           xbins=go.histogram.XBins(size=1)))\n",
    "\n",
    "fig.update_layout(title='Распределение классов',\n",
    "                  xaxis_title='Класс',\n",
    "                  yaxis_title='Количество')\n",
    "fig.show()"
   ],
   "metadata": {
    "collapsed": false,
    "ExecuteTime": {
     "end_time": "2024-11-28T19:18:10.945787Z",
     "start_time": "2024-11-28T19:18:10.936616Z"
    }
   },
   "id": "2d0ed95be7a895e3",
   "outputs": [
    {
     "data": {
      "application/vnd.plotly.v1+json": {
       "data": [
        {
         "x": [
          "Strength",
          "HIIT",
          "HIIT",
          "HIIT",
          "Strength",
          "Cardio",
          "Cardio",
          "Cardio",
          "HIIT",
          "Strength",
          "Yoga",
          "Cardio",
          "Yoga",
          "Strength",
          "Cardio",
          "Cardio",
          "Strength",
          "HIIT",
          "Yoga",
          "Yoga",
          "Strength",
          "Yoga",
          "HIIT",
          "Strength",
          "HIIT",
          "Strength",
          "Yoga",
          "HIIT",
          "Strength",
          "Strength",
          "HIIT",
          "HIIT",
          "HIIT",
          "Strength",
          "Strength",
          "Strength",
          "Yoga",
          "Strength",
          "Yoga",
          "Strength",
          "Yoga",
          "Strength",
          "Cardio",
          "Strength",
          "Strength",
          "HIIT",
          "Yoga",
          "Cardio",
          "HIIT",
          "Cardio",
          "Yoga",
          "Cardio",
          "Strength",
          "Cardio",
          "Yoga",
          "Strength",
          "Cardio",
          "Yoga",
          "Cardio",
          "Strength",
          "Cardio",
          "Yoga",
          "Strength",
          "Yoga",
          "Strength",
          "Strength",
          "Cardio",
          "Strength",
          "Cardio",
          "Strength",
          "Strength",
          "Cardio",
          "Yoga",
          "Strength",
          "Yoga",
          "Cardio",
          "Cardio",
          "Strength",
          "Strength",
          "Cardio",
          "Yoga",
          "HIIT",
          "Strength",
          "Cardio",
          "Yoga",
          "Strength",
          "HIIT",
          "Yoga",
          "Cardio",
          "Cardio",
          "Cardio",
          "HIIT",
          "Strength",
          "Yoga",
          "Cardio",
          "Cardio",
          "HIIT",
          "Yoga",
          "HIIT",
          "Yoga",
          "Yoga",
          "Yoga",
          "Yoga",
          "Cardio",
          "Strength",
          "HIIT",
          "Strength",
          "Yoga",
          "Yoga",
          "Yoga",
          "Cardio",
          "Cardio",
          "Yoga",
          "Strength",
          "Yoga",
          "Yoga",
          "Yoga",
          "HIIT",
          "Strength",
          "HIIT",
          "Yoga",
          "Strength",
          "Strength",
          "HIIT",
          "HIIT",
          "HIIT",
          "Strength",
          "HIIT",
          "HIIT",
          "Yoga",
          "Cardio",
          "Cardio",
          "Cardio",
          "Yoga",
          "HIIT",
          "Strength",
          "Strength",
          "Strength",
          "HIIT",
          "HIIT",
          "Strength",
          "Yoga",
          "Cardio",
          "Cardio",
          "Yoga",
          "HIIT",
          "Yoga",
          "Strength",
          "Strength",
          "Cardio",
          "Strength",
          "Strength",
          "Cardio",
          "Yoga",
          "Strength",
          "Yoga",
          "Cardio",
          "Cardio",
          "Yoga",
          "Cardio",
          "HIIT",
          "HIIT",
          "Strength",
          "Yoga",
          "Strength",
          "Strength",
          "HIIT",
          "Cardio",
          "Strength",
          "HIIT",
          "Cardio",
          "Cardio",
          "HIIT",
          "HIIT",
          "Cardio",
          "Strength",
          "HIIT",
          "HIIT",
          "Yoga",
          "Strength",
          "HIIT",
          "Cardio",
          "Yoga",
          "Cardio",
          "Cardio",
          "Yoga",
          "Yoga",
          "HIIT",
          "Cardio",
          "Strength",
          "HIIT",
          "Yoga",
          "Strength",
          "Strength",
          "Yoga",
          "HIIT",
          "Cardio",
          "Cardio",
          "HIIT",
          "Yoga",
          "Strength",
          "Yoga",
          "Yoga",
          "Strength",
          "HIIT",
          "Strength",
          "HIIT",
          "Yoga",
          "Cardio",
          "Cardio",
          "Cardio",
          "Strength",
          "HIIT",
          "HIIT",
          "Strength",
          "Yoga",
          "HIIT",
          "HIIT",
          "HIIT",
          "Cardio",
          "Yoga",
          "Yoga",
          "Strength",
          "Cardio",
          "Strength",
          "Yoga",
          "Strength",
          "Strength",
          "HIIT",
          "HIIT",
          "HIIT",
          "Strength",
          "Strength",
          "Yoga",
          "Strength",
          "Cardio",
          "Cardio",
          "HIIT",
          "Yoga",
          "Cardio",
          "Cardio",
          "Strength",
          "Strength",
          "HIIT",
          "Yoga",
          "Cardio",
          "Cardio",
          "Cardio",
          "HIIT",
          "Yoga",
          "Strength",
          "Cardio",
          "Strength",
          "Yoga",
          "Yoga",
          "Strength",
          "Cardio",
          "HIIT",
          "Strength",
          "Cardio",
          "Yoga",
          "Strength",
          "HIIT",
          "Strength",
          "Strength",
          "HIIT",
          "Yoga",
          "HIIT",
          "Strength",
          "HIIT",
          "Yoga",
          "HIIT",
          "Yoga",
          "HIIT",
          "HIIT",
          "Yoga",
          "Cardio",
          "Strength",
          "Cardio",
          "Yoga",
          "Strength",
          "Cardio",
          "HIIT",
          "Yoga",
          "Strength",
          "Strength",
          "Cardio",
          "Yoga",
          "Strength",
          "HIIT",
          "Yoga",
          "HIIT",
          "Cardio",
          "Cardio",
          "Strength",
          "Yoga",
          "Strength",
          "HIIT",
          "Cardio",
          "Yoga",
          "HIIT",
          "HIIT",
          "HIIT",
          "HIIT",
          "Strength",
          "Strength",
          "Yoga",
          "Strength",
          "Strength",
          "Cardio",
          "Yoga",
          "HIIT",
          "Yoga",
          "Yoga",
          "Cardio",
          "Cardio",
          "HIIT",
          "Yoga",
          "Cardio",
          "Cardio",
          "Yoga",
          "HIIT",
          "Yoga",
          "Yoga",
          "Cardio",
          "Cardio",
          "HIIT",
          "Yoga",
          "Strength",
          "HIIT",
          "Cardio",
          "HIIT",
          "Cardio",
          "Strength",
          "Yoga",
          "Yoga",
          "HIIT",
          "Strength",
          "Strength",
          "Strength",
          "Strength",
          "Cardio",
          "Cardio",
          "HIIT",
          "Cardio",
          "Cardio",
          "HIIT",
          "Yoga",
          "Yoga",
          "Cardio",
          "Strength",
          "Yoga",
          "HIIT",
          "Strength",
          "Cardio",
          "Yoga",
          "HIIT",
          "Yoga",
          "HIIT",
          "Yoga",
          "Yoga",
          "Cardio",
          "Cardio",
          "HIIT",
          "Strength",
          "Cardio",
          "Cardio",
          "Cardio",
          "Cardio",
          "HIIT",
          "Strength",
          "Yoga",
          "Yoga",
          "HIIT",
          "Cardio",
          "Strength",
          "HIIT",
          "HIIT",
          "Yoga",
          "Yoga",
          "Cardio",
          "Yoga",
          "Cardio",
          "Cardio",
          "Strength",
          "HIIT",
          "Strength",
          "Cardio",
          "Strength",
          "Yoga",
          "Yoga",
          "Strength",
          "Cardio",
          "Strength",
          "HIIT",
          "Yoga",
          "HIIT",
          "HIIT",
          "HIIT",
          "HIIT",
          "Strength",
          "HIIT",
          "Strength",
          "Strength",
          "Strength",
          "Cardio",
          "Cardio",
          "HIIT",
          "HIIT",
          "Yoga",
          "Yoga",
          "Yoga",
          "Strength",
          "Yoga",
          "Strength",
          "Cardio",
          "HIIT",
          "Strength",
          "Yoga",
          "Strength",
          "Strength",
          "HIIT",
          "Strength",
          "Cardio",
          "Cardio",
          "HIIT",
          "Strength",
          "Cardio",
          "Yoga",
          "Cardio",
          "Cardio",
          "HIIT",
          "Strength",
          "Cardio",
          "HIIT",
          "Strength",
          "Yoga",
          "Cardio",
          "Strength",
          "HIIT",
          "Cardio",
          "Cardio",
          "Strength",
          "Cardio",
          "HIIT",
          "Strength",
          "HIIT",
          "Strength",
          "HIIT",
          "Cardio",
          "Strength",
          "Cardio",
          "Yoga",
          "HIIT",
          "Cardio",
          "Cardio",
          "Strength",
          "Strength",
          "Yoga",
          "Strength",
          "Yoga",
          "Yoga",
          "Yoga",
          "Yoga",
          "Strength",
          "Strength",
          "Yoga",
          "Cardio",
          "HIIT",
          "Yoga",
          "Yoga",
          "Strength",
          "Yoga",
          "Yoga",
          "Strength",
          "HIIT",
          "Strength",
          "Cardio",
          "Cardio",
          "Strength",
          "Cardio",
          "Strength",
          "Strength",
          "Strength",
          "Yoga",
          "Yoga",
          "HIIT",
          "Cardio",
          "Cardio",
          "Strength",
          "HIIT",
          "Yoga",
          "Cardio",
          "Cardio",
          "Cardio",
          "HIIT",
          "Cardio",
          "HIIT",
          "Cardio",
          "Strength",
          "HIIT",
          "Strength",
          "HIIT",
          "Strength",
          "Cardio",
          "Cardio",
          "HIIT",
          "Yoga",
          "Strength",
          "Yoga",
          "Strength",
          "Yoga",
          "Yoga",
          "Yoga",
          "Cardio",
          "Strength",
          "Yoga",
          "Yoga",
          "Cardio",
          "Strength",
          "Yoga",
          "Cardio",
          "HIIT",
          "Yoga",
          "HIIT",
          "Cardio",
          "Strength",
          "HIIT",
          "Yoga",
          "HIIT",
          "Yoga",
          "HIIT",
          "HIIT",
          "Cardio",
          "Cardio",
          "HIIT",
          "HIIT",
          "HIIT",
          "Yoga",
          "HIIT",
          "Cardio",
          "Yoga",
          "HIIT",
          "Yoga",
          "Yoga",
          "Cardio",
          "Cardio",
          "Yoga",
          "Strength",
          "Yoga",
          "Cardio",
          "Strength",
          "Yoga",
          "Cardio",
          "Strength",
          "Yoga",
          "Yoga",
          "Strength",
          "Yoga",
          "HIIT",
          "Strength",
          "Yoga",
          "HIIT",
          "Yoga",
          "Yoga",
          "HIIT",
          "HIIT",
          "Strength",
          "Cardio",
          "Cardio",
          "Strength",
          "Cardio",
          "Strength",
          "Cardio",
          "Strength",
          "Yoga",
          "Cardio",
          "Cardio",
          "Yoga",
          "Cardio",
          "HIIT",
          "HIIT",
          "HIIT",
          "Cardio",
          "HIIT",
          "Yoga",
          "Cardio",
          "Yoga",
          "HIIT",
          "HIIT",
          "Yoga",
          "Yoga",
          "HIIT",
          "Strength",
          "Strength",
          "Strength",
          "Strength",
          "HIIT",
          "Yoga",
          "HIIT",
          "Cardio",
          "Cardio",
          "Strength",
          "Strength",
          "Cardio",
          "Cardio",
          "Cardio",
          "Yoga",
          "Cardio",
          "Yoga",
          "Cardio",
          "Yoga",
          "Cardio",
          "Cardio",
          "Strength",
          "HIIT",
          "Strength",
          "Strength",
          "HIIT",
          "Yoga",
          "HIIT",
          "Strength",
          "Cardio",
          "Strength",
          "Cardio",
          "Yoga",
          "Strength",
          "Strength",
          "Strength",
          "Cardio",
          "Cardio",
          "HIIT",
          "HIIT",
          "Cardio",
          "Cardio",
          "HIIT",
          "Strength",
          "HIIT",
          "HIIT",
          "Cardio",
          "Yoga",
          "Strength",
          "Strength",
          "Cardio",
          "Strength",
          "Yoga",
          "Cardio",
          "Strength",
          "Strength",
          "HIIT",
          "Strength",
          "Cardio",
          "Strength",
          "Strength",
          "HIIT",
          "Yoga",
          "Cardio",
          "Yoga",
          "Cardio",
          "Yoga",
          "Cardio",
          "HIIT",
          "Cardio",
          "Cardio",
          "Cardio",
          "Yoga",
          "Cardio",
          "Cardio",
          "Cardio",
          "Strength",
          "HIIT",
          "Yoga",
          "HIIT",
          "Cardio",
          "Yoga",
          "Yoga",
          "Strength",
          "Yoga",
          "Cardio",
          "HIIT",
          "Strength"
         ],
         "xbins": {
          "size": 1
         },
         "type": "histogram"
        }
       ],
       "layout": {
        "template": {
         "data": {
          "histogram2dcontour": [
           {
            "type": "histogram2dcontour",
            "colorbar": {
             "outlinewidth": 0,
             "ticks": ""
            },
            "colorscale": [
             [
              0.0,
              "#0d0887"
             ],
             [
              0.1111111111111111,
              "#46039f"
             ],
             [
              0.2222222222222222,
              "#7201a8"
             ],
             [
              0.3333333333333333,
              "#9c179e"
             ],
             [
              0.4444444444444444,
              "#bd3786"
             ],
             [
              0.5555555555555556,
              "#d8576b"
             ],
             [
              0.6666666666666666,
              "#ed7953"
             ],
             [
              0.7777777777777778,
              "#fb9f3a"
             ],
             [
              0.8888888888888888,
              "#fdca26"
             ],
             [
              1.0,
              "#f0f921"
             ]
            ]
           }
          ],
          "choropleth": [
           {
            "type": "choropleth",
            "colorbar": {
             "outlinewidth": 0,
             "ticks": ""
            }
           }
          ],
          "histogram2d": [
           {
            "type": "histogram2d",
            "colorbar": {
             "outlinewidth": 0,
             "ticks": ""
            },
            "colorscale": [
             [
              0.0,
              "#0d0887"
             ],
             [
              0.1111111111111111,
              "#46039f"
             ],
             [
              0.2222222222222222,
              "#7201a8"
             ],
             [
              0.3333333333333333,
              "#9c179e"
             ],
             [
              0.4444444444444444,
              "#bd3786"
             ],
             [
              0.5555555555555556,
              "#d8576b"
             ],
             [
              0.6666666666666666,
              "#ed7953"
             ],
             [
              0.7777777777777778,
              "#fb9f3a"
             ],
             [
              0.8888888888888888,
              "#fdca26"
             ],
             [
              1.0,
              "#f0f921"
             ]
            ]
           }
          ],
          "heatmap": [
           {
            "type": "heatmap",
            "colorbar": {
             "outlinewidth": 0,
             "ticks": ""
            },
            "colorscale": [
             [
              0.0,
              "#0d0887"
             ],
             [
              0.1111111111111111,
              "#46039f"
             ],
             [
              0.2222222222222222,
              "#7201a8"
             ],
             [
              0.3333333333333333,
              "#9c179e"
             ],
             [
              0.4444444444444444,
              "#bd3786"
             ],
             [
              0.5555555555555556,
              "#d8576b"
             ],
             [
              0.6666666666666666,
              "#ed7953"
             ],
             [
              0.7777777777777778,
              "#fb9f3a"
             ],
             [
              0.8888888888888888,
              "#fdca26"
             ],
             [
              1.0,
              "#f0f921"
             ]
            ]
           }
          ],
          "heatmapgl": [
           {
            "type": "heatmapgl",
            "colorbar": {
             "outlinewidth": 0,
             "ticks": ""
            },
            "colorscale": [
             [
              0.0,
              "#0d0887"
             ],
             [
              0.1111111111111111,
              "#46039f"
             ],
             [
              0.2222222222222222,
              "#7201a8"
             ],
             [
              0.3333333333333333,
              "#9c179e"
             ],
             [
              0.4444444444444444,
              "#bd3786"
             ],
             [
              0.5555555555555556,
              "#d8576b"
             ],
             [
              0.6666666666666666,
              "#ed7953"
             ],
             [
              0.7777777777777778,
              "#fb9f3a"
             ],
             [
              0.8888888888888888,
              "#fdca26"
             ],
             [
              1.0,
              "#f0f921"
             ]
            ]
           }
          ],
          "contourcarpet": [
           {
            "type": "contourcarpet",
            "colorbar": {
             "outlinewidth": 0,
             "ticks": ""
            }
           }
          ],
          "contour": [
           {
            "type": "contour",
            "colorbar": {
             "outlinewidth": 0,
             "ticks": ""
            },
            "colorscale": [
             [
              0.0,
              "#0d0887"
             ],
             [
              0.1111111111111111,
              "#46039f"
             ],
             [
              0.2222222222222222,
              "#7201a8"
             ],
             [
              0.3333333333333333,
              "#9c179e"
             ],
             [
              0.4444444444444444,
              "#bd3786"
             ],
             [
              0.5555555555555556,
              "#d8576b"
             ],
             [
              0.6666666666666666,
              "#ed7953"
             ],
             [
              0.7777777777777778,
              "#fb9f3a"
             ],
             [
              0.8888888888888888,
              "#fdca26"
             ],
             [
              1.0,
              "#f0f921"
             ]
            ]
           }
          ],
          "surface": [
           {
            "type": "surface",
            "colorbar": {
             "outlinewidth": 0,
             "ticks": ""
            },
            "colorscale": [
             [
              0.0,
              "#0d0887"
             ],
             [
              0.1111111111111111,
              "#46039f"
             ],
             [
              0.2222222222222222,
              "#7201a8"
             ],
             [
              0.3333333333333333,
              "#9c179e"
             ],
             [
              0.4444444444444444,
              "#bd3786"
             ],
             [
              0.5555555555555556,
              "#d8576b"
             ],
             [
              0.6666666666666666,
              "#ed7953"
             ],
             [
              0.7777777777777778,
              "#fb9f3a"
             ],
             [
              0.8888888888888888,
              "#fdca26"
             ],
             [
              1.0,
              "#f0f921"
             ]
            ]
           }
          ],
          "mesh3d": [
           {
            "type": "mesh3d",
            "colorbar": {
             "outlinewidth": 0,
             "ticks": ""
            }
           }
          ],
          "scatter": [
           {
            "marker": {
             "line": {
              "color": "#283442"
             }
            },
            "type": "scatter"
           }
          ],
          "parcoords": [
           {
            "type": "parcoords",
            "line": {
             "colorbar": {
              "outlinewidth": 0,
              "ticks": ""
             }
            }
           }
          ],
          "scatterpolargl": [
           {
            "type": "scatterpolargl",
            "marker": {
             "colorbar": {
              "outlinewidth": 0,
              "ticks": ""
             }
            }
           }
          ],
          "bar": [
           {
            "error_x": {
             "color": "#f2f5fa"
            },
            "error_y": {
             "color": "#f2f5fa"
            },
            "marker": {
             "line": {
              "color": "rgb(17,17,17)",
              "width": 0.5
             },
             "pattern": {
              "fillmode": "overlay",
              "size": 10,
              "solidity": 0.2
             }
            },
            "type": "bar"
           }
          ],
          "scattergeo": [
           {
            "type": "scattergeo",
            "marker": {
             "colorbar": {
              "outlinewidth": 0,
              "ticks": ""
             }
            }
           }
          ],
          "scatterpolar": [
           {
            "type": "scatterpolar",
            "marker": {
             "colorbar": {
              "outlinewidth": 0,
              "ticks": ""
             }
            }
           }
          ],
          "histogram": [
           {
            "marker": {
             "pattern": {
              "fillmode": "overlay",
              "size": 10,
              "solidity": 0.2
             }
            },
            "type": "histogram"
           }
          ],
          "scattergl": [
           {
            "marker": {
             "line": {
              "color": "#283442"
             }
            },
            "type": "scattergl"
           }
          ],
          "scatter3d": [
           {
            "type": "scatter3d",
            "line": {
             "colorbar": {
              "outlinewidth": 0,
              "ticks": ""
             }
            },
            "marker": {
             "colorbar": {
              "outlinewidth": 0,
              "ticks": ""
             }
            }
           }
          ],
          "scattermapbox": [
           {
            "type": "scattermapbox",
            "marker": {
             "colorbar": {
              "outlinewidth": 0,
              "ticks": ""
             }
            }
           }
          ],
          "scatterternary": [
           {
            "type": "scatterternary",
            "marker": {
             "colorbar": {
              "outlinewidth": 0,
              "ticks": ""
             }
            }
           }
          ],
          "scattercarpet": [
           {
            "type": "scattercarpet",
            "marker": {
             "colorbar": {
              "outlinewidth": 0,
              "ticks": ""
             }
            }
           }
          ],
          "carpet": [
           {
            "aaxis": {
             "endlinecolor": "#A2B1C6",
             "gridcolor": "#506784",
             "linecolor": "#506784",
             "minorgridcolor": "#506784",
             "startlinecolor": "#A2B1C6"
            },
            "baxis": {
             "endlinecolor": "#A2B1C6",
             "gridcolor": "#506784",
             "linecolor": "#506784",
             "minorgridcolor": "#506784",
             "startlinecolor": "#A2B1C6"
            },
            "type": "carpet"
           }
          ],
          "table": [
           {
            "cells": {
             "fill": {
              "color": "#506784"
             },
             "line": {
              "color": "rgb(17,17,17)"
             }
            },
            "header": {
             "fill": {
              "color": "#2a3f5f"
             },
             "line": {
              "color": "rgb(17,17,17)"
             }
            },
            "type": "table"
           }
          ],
          "barpolar": [
           {
            "marker": {
             "line": {
              "color": "rgb(17,17,17)",
              "width": 0.5
             },
             "pattern": {
              "fillmode": "overlay",
              "size": 10,
              "solidity": 0.2
             }
            },
            "type": "barpolar"
           }
          ],
          "pie": [
           {
            "automargin": true,
            "type": "pie"
           }
          ]
         },
         "layout": {
          "autotypenumbers": "strict",
          "colorway": [
           "#636efa",
           "#EF553B",
           "#00cc96",
           "#ab63fa",
           "#FFA15A",
           "#19d3f3",
           "#FF6692",
           "#B6E880",
           "#FF97FF",
           "#FECB52"
          ],
          "font": {
           "color": "#f2f5fa"
          },
          "hovermode": "closest",
          "hoverlabel": {
           "align": "left"
          },
          "paper_bgcolor": "rgb(17,17,17)",
          "plot_bgcolor": "rgb(17,17,17)",
          "polar": {
           "bgcolor": "rgb(17,17,17)",
           "angularaxis": {
            "gridcolor": "#506784",
            "linecolor": "#506784",
            "ticks": ""
           },
           "radialaxis": {
            "gridcolor": "#506784",
            "linecolor": "#506784",
            "ticks": ""
           }
          },
          "ternary": {
           "bgcolor": "rgb(17,17,17)",
           "aaxis": {
            "gridcolor": "#506784",
            "linecolor": "#506784",
            "ticks": ""
           },
           "baxis": {
            "gridcolor": "#506784",
            "linecolor": "#506784",
            "ticks": ""
           },
           "caxis": {
            "gridcolor": "#506784",
            "linecolor": "#506784",
            "ticks": ""
           }
          },
          "coloraxis": {
           "colorbar": {
            "outlinewidth": 0,
            "ticks": ""
           }
          },
          "colorscale": {
           "sequential": [
            [
             0.0,
             "#0d0887"
            ],
            [
             0.1111111111111111,
             "#46039f"
            ],
            [
             0.2222222222222222,
             "#7201a8"
            ],
            [
             0.3333333333333333,
             "#9c179e"
            ],
            [
             0.4444444444444444,
             "#bd3786"
            ],
            [
             0.5555555555555556,
             "#d8576b"
            ],
            [
             0.6666666666666666,
             "#ed7953"
            ],
            [
             0.7777777777777778,
             "#fb9f3a"
            ],
            [
             0.8888888888888888,
             "#fdca26"
            ],
            [
             1.0,
             "#f0f921"
            ]
           ],
           "sequentialminus": [
            [
             0.0,
             "#0d0887"
            ],
            [
             0.1111111111111111,
             "#46039f"
            ],
            [
             0.2222222222222222,
             "#7201a8"
            ],
            [
             0.3333333333333333,
             "#9c179e"
            ],
            [
             0.4444444444444444,
             "#bd3786"
            ],
            [
             0.5555555555555556,
             "#d8576b"
            ],
            [
             0.6666666666666666,
             "#ed7953"
            ],
            [
             0.7777777777777778,
             "#fb9f3a"
            ],
            [
             0.8888888888888888,
             "#fdca26"
            ],
            [
             1.0,
             "#f0f921"
            ]
           ],
           "diverging": [
            [
             0,
             "#8e0152"
            ],
            [
             0.1,
             "#c51b7d"
            ],
            [
             0.2,
             "#de77ae"
            ],
            [
             0.3,
             "#f1b6da"
            ],
            [
             0.4,
             "#fde0ef"
            ],
            [
             0.5,
             "#f7f7f7"
            ],
            [
             0.6,
             "#e6f5d0"
            ],
            [
             0.7,
             "#b8e186"
            ],
            [
             0.8,
             "#7fbc41"
            ],
            [
             0.9,
             "#4d9221"
            ],
            [
             1,
             "#276419"
            ]
           ]
          },
          "xaxis": {
           "gridcolor": "#283442",
           "linecolor": "#506784",
           "ticks": "",
           "title": {
            "standoff": 15
           },
           "zerolinecolor": "#283442",
           "automargin": true,
           "zerolinewidth": 2
          },
          "yaxis": {
           "gridcolor": "#283442",
           "linecolor": "#506784",
           "ticks": "",
           "title": {
            "standoff": 15
           },
           "zerolinecolor": "#283442",
           "automargin": true,
           "zerolinewidth": 2
          },
          "scene": {
           "xaxis": {
            "backgroundcolor": "rgb(17,17,17)",
            "gridcolor": "#506784",
            "linecolor": "#506784",
            "showbackground": true,
            "ticks": "",
            "zerolinecolor": "#C8D4E3",
            "gridwidth": 2
           },
           "yaxis": {
            "backgroundcolor": "rgb(17,17,17)",
            "gridcolor": "#506784",
            "linecolor": "#506784",
            "showbackground": true,
            "ticks": "",
            "zerolinecolor": "#C8D4E3",
            "gridwidth": 2
           },
           "zaxis": {
            "backgroundcolor": "rgb(17,17,17)",
            "gridcolor": "#506784",
            "linecolor": "#506784",
            "showbackground": true,
            "ticks": "",
            "zerolinecolor": "#C8D4E3",
            "gridwidth": 2
           }
          },
          "shapedefaults": {
           "line": {
            "color": "#f2f5fa"
           }
          },
          "annotationdefaults": {
           "arrowcolor": "#f2f5fa",
           "arrowhead": 0,
           "arrowwidth": 1
          },
          "geo": {
           "bgcolor": "rgb(17,17,17)",
           "landcolor": "rgb(17,17,17)",
           "subunitcolor": "#506784",
           "showland": true,
           "showlakes": true,
           "lakecolor": "rgb(17,17,17)"
          },
          "title": {
           "x": 0.05
          },
          "updatemenudefaults": {
           "bgcolor": "#506784",
           "borderwidth": 0
          },
          "sliderdefaults": {
           "bgcolor": "#C8D4E3",
           "borderwidth": 1,
           "bordercolor": "rgb(17,17,17)",
           "tickwidth": 0
          },
          "mapbox": {
           "style": "dark"
          }
         }
        },
        "title": {
         "text": "Распределение классов"
        },
        "xaxis": {
         "title": {
          "text": "Класс"
         }
        },
        "yaxis": {
         "title": {
          "text": "Количество"
         }
        }
       },
       "config": {
        "plotlyServerURL": "https://plot.ly"
       }
      },
      "text/html": [
       "<div>                            <div id=\"2c304671-b87b-467a-a4c5-720254faed4e\" class=\"plotly-graph-div\" style=\"height:525px; width:100%;\"></div>            <script type=\"text/javascript\">                require([\"plotly\"], function(Plotly) {                    window.PLOTLYENV=window.PLOTLYENV || {};                                    if (document.getElementById(\"2c304671-b87b-467a-a4c5-720254faed4e\")) {                    Plotly.newPlot(                        \"2c304671-b87b-467a-a4c5-720254faed4e\",                        [{\"x\":[\"Strength\",\"HIIT\",\"HIIT\",\"HIIT\",\"Strength\",\"Cardio\",\"Cardio\",\"Cardio\",\"HIIT\",\"Strength\",\"Yoga\",\"Cardio\",\"Yoga\",\"Strength\",\"Cardio\",\"Cardio\",\"Strength\",\"HIIT\",\"Yoga\",\"Yoga\",\"Strength\",\"Yoga\",\"HIIT\",\"Strength\",\"HIIT\",\"Strength\",\"Yoga\",\"HIIT\",\"Strength\",\"Strength\",\"HIIT\",\"HIIT\",\"HIIT\",\"Strength\",\"Strength\",\"Strength\",\"Yoga\",\"Strength\",\"Yoga\",\"Strength\",\"Yoga\",\"Strength\",\"Cardio\",\"Strength\",\"Strength\",\"HIIT\",\"Yoga\",\"Cardio\",\"HIIT\",\"Cardio\",\"Yoga\",\"Cardio\",\"Strength\",\"Cardio\",\"Yoga\",\"Strength\",\"Cardio\",\"Yoga\",\"Cardio\",\"Strength\",\"Cardio\",\"Yoga\",\"Strength\",\"Yoga\",\"Strength\",\"Strength\",\"Cardio\",\"Strength\",\"Cardio\",\"Strength\",\"Strength\",\"Cardio\",\"Yoga\",\"Strength\",\"Yoga\",\"Cardio\",\"Cardio\",\"Strength\",\"Strength\",\"Cardio\",\"Yoga\",\"HIIT\",\"Strength\",\"Cardio\",\"Yoga\",\"Strength\",\"HIIT\",\"Yoga\",\"Cardio\",\"Cardio\",\"Cardio\",\"HIIT\",\"Strength\",\"Yoga\",\"Cardio\",\"Cardio\",\"HIIT\",\"Yoga\",\"HIIT\",\"Yoga\",\"Yoga\",\"Yoga\",\"Yoga\",\"Cardio\",\"Strength\",\"HIIT\",\"Strength\",\"Yoga\",\"Yoga\",\"Yoga\",\"Cardio\",\"Cardio\",\"Yoga\",\"Strength\",\"Yoga\",\"Yoga\",\"Yoga\",\"HIIT\",\"Strength\",\"HIIT\",\"Yoga\",\"Strength\",\"Strength\",\"HIIT\",\"HIIT\",\"HIIT\",\"Strength\",\"HIIT\",\"HIIT\",\"Yoga\",\"Cardio\",\"Cardio\",\"Cardio\",\"Yoga\",\"HIIT\",\"Strength\",\"Strength\",\"Strength\",\"HIIT\",\"HIIT\",\"Strength\",\"Yoga\",\"Cardio\",\"Cardio\",\"Yoga\",\"HIIT\",\"Yoga\",\"Strength\",\"Strength\",\"Cardio\",\"Strength\",\"Strength\",\"Cardio\",\"Yoga\",\"Strength\",\"Yoga\",\"Cardio\",\"Cardio\",\"Yoga\",\"Cardio\",\"HIIT\",\"HIIT\",\"Strength\",\"Yoga\",\"Strength\",\"Strength\",\"HIIT\",\"Cardio\",\"Strength\",\"HIIT\",\"Cardio\",\"Cardio\",\"HIIT\",\"HIIT\",\"Cardio\",\"Strength\",\"HIIT\",\"HIIT\",\"Yoga\",\"Strength\",\"HIIT\",\"Cardio\",\"Yoga\",\"Cardio\",\"Cardio\",\"Yoga\",\"Yoga\",\"HIIT\",\"Cardio\",\"Strength\",\"HIIT\",\"Yoga\",\"Strength\",\"Strength\",\"Yoga\",\"HIIT\",\"Cardio\",\"Cardio\",\"HIIT\",\"Yoga\",\"Strength\",\"Yoga\",\"Yoga\",\"Strength\",\"HIIT\",\"Strength\",\"HIIT\",\"Yoga\",\"Cardio\",\"Cardio\",\"Cardio\",\"Strength\",\"HIIT\",\"HIIT\",\"Strength\",\"Yoga\",\"HIIT\",\"HIIT\",\"HIIT\",\"Cardio\",\"Yoga\",\"Yoga\",\"Strength\",\"Cardio\",\"Strength\",\"Yoga\",\"Strength\",\"Strength\",\"HIIT\",\"HIIT\",\"HIIT\",\"Strength\",\"Strength\",\"Yoga\",\"Strength\",\"Cardio\",\"Cardio\",\"HIIT\",\"Yoga\",\"Cardio\",\"Cardio\",\"Strength\",\"Strength\",\"HIIT\",\"Yoga\",\"Cardio\",\"Cardio\",\"Cardio\",\"HIIT\",\"Yoga\",\"Strength\",\"Cardio\",\"Strength\",\"Yoga\",\"Yoga\",\"Strength\",\"Cardio\",\"HIIT\",\"Strength\",\"Cardio\",\"Yoga\",\"Strength\",\"HIIT\",\"Strength\",\"Strength\",\"HIIT\",\"Yoga\",\"HIIT\",\"Strength\",\"HIIT\",\"Yoga\",\"HIIT\",\"Yoga\",\"HIIT\",\"HIIT\",\"Yoga\",\"Cardio\",\"Strength\",\"Cardio\",\"Yoga\",\"Strength\",\"Cardio\",\"HIIT\",\"Yoga\",\"Strength\",\"Strength\",\"Cardio\",\"Yoga\",\"Strength\",\"HIIT\",\"Yoga\",\"HIIT\",\"Cardio\",\"Cardio\",\"Strength\",\"Yoga\",\"Strength\",\"HIIT\",\"Cardio\",\"Yoga\",\"HIIT\",\"HIIT\",\"HIIT\",\"HIIT\",\"Strength\",\"Strength\",\"Yoga\",\"Strength\",\"Strength\",\"Cardio\",\"Yoga\",\"HIIT\",\"Yoga\",\"Yoga\",\"Cardio\",\"Cardio\",\"HIIT\",\"Yoga\",\"Cardio\",\"Cardio\",\"Yoga\",\"HIIT\",\"Yoga\",\"Yoga\",\"Cardio\",\"Cardio\",\"HIIT\",\"Yoga\",\"Strength\",\"HIIT\",\"Cardio\",\"HIIT\",\"Cardio\",\"Strength\",\"Yoga\",\"Yoga\",\"HIIT\",\"Strength\",\"Strength\",\"Strength\",\"Strength\",\"Cardio\",\"Cardio\",\"HIIT\",\"Cardio\",\"Cardio\",\"HIIT\",\"Yoga\",\"Yoga\",\"Cardio\",\"Strength\",\"Yoga\",\"HIIT\",\"Strength\",\"Cardio\",\"Yoga\",\"HIIT\",\"Yoga\",\"HIIT\",\"Yoga\",\"Yoga\",\"Cardio\",\"Cardio\",\"HIIT\",\"Strength\",\"Cardio\",\"Cardio\",\"Cardio\",\"Cardio\",\"HIIT\",\"Strength\",\"Yoga\",\"Yoga\",\"HIIT\",\"Cardio\",\"Strength\",\"HIIT\",\"HIIT\",\"Yoga\",\"Yoga\",\"Cardio\",\"Yoga\",\"Cardio\",\"Cardio\",\"Strength\",\"HIIT\",\"Strength\",\"Cardio\",\"Strength\",\"Yoga\",\"Yoga\",\"Strength\",\"Cardio\",\"Strength\",\"HIIT\",\"Yoga\",\"HIIT\",\"HIIT\",\"HIIT\",\"HIIT\",\"Strength\",\"HIIT\",\"Strength\",\"Strength\",\"Strength\",\"Cardio\",\"Cardio\",\"HIIT\",\"HIIT\",\"Yoga\",\"Yoga\",\"Yoga\",\"Strength\",\"Yoga\",\"Strength\",\"Cardio\",\"HIIT\",\"Strength\",\"Yoga\",\"Strength\",\"Strength\",\"HIIT\",\"Strength\",\"Cardio\",\"Cardio\",\"HIIT\",\"Strength\",\"Cardio\",\"Yoga\",\"Cardio\",\"Cardio\",\"HIIT\",\"Strength\",\"Cardio\",\"HIIT\",\"Strength\",\"Yoga\",\"Cardio\",\"Strength\",\"HIIT\",\"Cardio\",\"Cardio\",\"Strength\",\"Cardio\",\"HIIT\",\"Strength\",\"HIIT\",\"Strength\",\"HIIT\",\"Cardio\",\"Strength\",\"Cardio\",\"Yoga\",\"HIIT\",\"Cardio\",\"Cardio\",\"Strength\",\"Strength\",\"Yoga\",\"Strength\",\"Yoga\",\"Yoga\",\"Yoga\",\"Yoga\",\"Strength\",\"Strength\",\"Yoga\",\"Cardio\",\"HIIT\",\"Yoga\",\"Yoga\",\"Strength\",\"Yoga\",\"Yoga\",\"Strength\",\"HIIT\",\"Strength\",\"Cardio\",\"Cardio\",\"Strength\",\"Cardio\",\"Strength\",\"Strength\",\"Strength\",\"Yoga\",\"Yoga\",\"HIIT\",\"Cardio\",\"Cardio\",\"Strength\",\"HIIT\",\"Yoga\",\"Cardio\",\"Cardio\",\"Cardio\",\"HIIT\",\"Cardio\",\"HIIT\",\"Cardio\",\"Strength\",\"HIIT\",\"Strength\",\"HIIT\",\"Strength\",\"Cardio\",\"Cardio\",\"HIIT\",\"Yoga\",\"Strength\",\"Yoga\",\"Strength\",\"Yoga\",\"Yoga\",\"Yoga\",\"Cardio\",\"Strength\",\"Yoga\",\"Yoga\",\"Cardio\",\"Strength\",\"Yoga\",\"Cardio\",\"HIIT\",\"Yoga\",\"HIIT\",\"Cardio\",\"Strength\",\"HIIT\",\"Yoga\",\"HIIT\",\"Yoga\",\"HIIT\",\"HIIT\",\"Cardio\",\"Cardio\",\"HIIT\",\"HIIT\",\"HIIT\",\"Yoga\",\"HIIT\",\"Cardio\",\"Yoga\",\"HIIT\",\"Yoga\",\"Yoga\",\"Cardio\",\"Cardio\",\"Yoga\",\"Strength\",\"Yoga\",\"Cardio\",\"Strength\",\"Yoga\",\"Cardio\",\"Strength\",\"Yoga\",\"Yoga\",\"Strength\",\"Yoga\",\"HIIT\",\"Strength\",\"Yoga\",\"HIIT\",\"Yoga\",\"Yoga\",\"HIIT\",\"HIIT\",\"Strength\",\"Cardio\",\"Cardio\",\"Strength\",\"Cardio\",\"Strength\",\"Cardio\",\"Strength\",\"Yoga\",\"Cardio\",\"Cardio\",\"Yoga\",\"Cardio\",\"HIIT\",\"HIIT\",\"HIIT\",\"Cardio\",\"HIIT\",\"Yoga\",\"Cardio\",\"Yoga\",\"HIIT\",\"HIIT\",\"Yoga\",\"Yoga\",\"HIIT\",\"Strength\",\"Strength\",\"Strength\",\"Strength\",\"HIIT\",\"Yoga\",\"HIIT\",\"Cardio\",\"Cardio\",\"Strength\",\"Strength\",\"Cardio\",\"Cardio\",\"Cardio\",\"Yoga\",\"Cardio\",\"Yoga\",\"Cardio\",\"Yoga\",\"Cardio\",\"Cardio\",\"Strength\",\"HIIT\",\"Strength\",\"Strength\",\"HIIT\",\"Yoga\",\"HIIT\",\"Strength\",\"Cardio\",\"Strength\",\"Cardio\",\"Yoga\",\"Strength\",\"Strength\",\"Strength\",\"Cardio\",\"Cardio\",\"HIIT\",\"HIIT\",\"Cardio\",\"Cardio\",\"HIIT\",\"Strength\",\"HIIT\",\"HIIT\",\"Cardio\",\"Yoga\",\"Strength\",\"Strength\",\"Cardio\",\"Strength\",\"Yoga\",\"Cardio\",\"Strength\",\"Strength\",\"HIIT\",\"Strength\",\"Cardio\",\"Strength\",\"Strength\",\"HIIT\",\"Yoga\",\"Cardio\",\"Yoga\",\"Cardio\",\"Yoga\",\"Cardio\",\"HIIT\",\"Cardio\",\"Cardio\",\"Cardio\",\"Yoga\",\"Cardio\",\"Cardio\",\"Cardio\",\"Strength\",\"HIIT\",\"Yoga\",\"HIIT\",\"Cardio\",\"Yoga\",\"Yoga\",\"Strength\",\"Yoga\",\"Cardio\",\"HIIT\",\"Strength\"],\"xbins\":{\"size\":1},\"type\":\"histogram\"}],                        {\"template\":{\"data\":{\"histogram2dcontour\":[{\"type\":\"histogram2dcontour\",\"colorbar\":{\"outlinewidth\":0,\"ticks\":\"\"},\"colorscale\":[[0.0,\"#0d0887\"],[0.1111111111111111,\"#46039f\"],[0.2222222222222222,\"#7201a8\"],[0.3333333333333333,\"#9c179e\"],[0.4444444444444444,\"#bd3786\"],[0.5555555555555556,\"#d8576b\"],[0.6666666666666666,\"#ed7953\"],[0.7777777777777778,\"#fb9f3a\"],[0.8888888888888888,\"#fdca26\"],[1.0,\"#f0f921\"]]}],\"choropleth\":[{\"type\":\"choropleth\",\"colorbar\":{\"outlinewidth\":0,\"ticks\":\"\"}}],\"histogram2d\":[{\"type\":\"histogram2d\",\"colorbar\":{\"outlinewidth\":0,\"ticks\":\"\"},\"colorscale\":[[0.0,\"#0d0887\"],[0.1111111111111111,\"#46039f\"],[0.2222222222222222,\"#7201a8\"],[0.3333333333333333,\"#9c179e\"],[0.4444444444444444,\"#bd3786\"],[0.5555555555555556,\"#d8576b\"],[0.6666666666666666,\"#ed7953\"],[0.7777777777777778,\"#fb9f3a\"],[0.8888888888888888,\"#fdca26\"],[1.0,\"#f0f921\"]]}],\"heatmap\":[{\"type\":\"heatmap\",\"colorbar\":{\"outlinewidth\":0,\"ticks\":\"\"},\"colorscale\":[[0.0,\"#0d0887\"],[0.1111111111111111,\"#46039f\"],[0.2222222222222222,\"#7201a8\"],[0.3333333333333333,\"#9c179e\"],[0.4444444444444444,\"#bd3786\"],[0.5555555555555556,\"#d8576b\"],[0.6666666666666666,\"#ed7953\"],[0.7777777777777778,\"#fb9f3a\"],[0.8888888888888888,\"#fdca26\"],[1.0,\"#f0f921\"]]}],\"heatmapgl\":[{\"type\":\"heatmapgl\",\"colorbar\":{\"outlinewidth\":0,\"ticks\":\"\"},\"colorscale\":[[0.0,\"#0d0887\"],[0.1111111111111111,\"#46039f\"],[0.2222222222222222,\"#7201a8\"],[0.3333333333333333,\"#9c179e\"],[0.4444444444444444,\"#bd3786\"],[0.5555555555555556,\"#d8576b\"],[0.6666666666666666,\"#ed7953\"],[0.7777777777777778,\"#fb9f3a\"],[0.8888888888888888,\"#fdca26\"],[1.0,\"#f0f921\"]]}],\"contourcarpet\":[{\"type\":\"contourcarpet\",\"colorbar\":{\"outlinewidth\":0,\"ticks\":\"\"}}],\"contour\":[{\"type\":\"contour\",\"colorbar\":{\"outlinewidth\":0,\"ticks\":\"\"},\"colorscale\":[[0.0,\"#0d0887\"],[0.1111111111111111,\"#46039f\"],[0.2222222222222222,\"#7201a8\"],[0.3333333333333333,\"#9c179e\"],[0.4444444444444444,\"#bd3786\"],[0.5555555555555556,\"#d8576b\"],[0.6666666666666666,\"#ed7953\"],[0.7777777777777778,\"#fb9f3a\"],[0.8888888888888888,\"#fdca26\"],[1.0,\"#f0f921\"]]}],\"surface\":[{\"type\":\"surface\",\"colorbar\":{\"outlinewidth\":0,\"ticks\":\"\"},\"colorscale\":[[0.0,\"#0d0887\"],[0.1111111111111111,\"#46039f\"],[0.2222222222222222,\"#7201a8\"],[0.3333333333333333,\"#9c179e\"],[0.4444444444444444,\"#bd3786\"],[0.5555555555555556,\"#d8576b\"],[0.6666666666666666,\"#ed7953\"],[0.7777777777777778,\"#fb9f3a\"],[0.8888888888888888,\"#fdca26\"],[1.0,\"#f0f921\"]]}],\"mesh3d\":[{\"type\":\"mesh3d\",\"colorbar\":{\"outlinewidth\":0,\"ticks\":\"\"}}],\"scatter\":[{\"marker\":{\"line\":{\"color\":\"#283442\"}},\"type\":\"scatter\"}],\"parcoords\":[{\"type\":\"parcoords\",\"line\":{\"colorbar\":{\"outlinewidth\":0,\"ticks\":\"\"}}}],\"scatterpolargl\":[{\"type\":\"scatterpolargl\",\"marker\":{\"colorbar\":{\"outlinewidth\":0,\"ticks\":\"\"}}}],\"bar\":[{\"error_x\":{\"color\":\"#f2f5fa\"},\"error_y\":{\"color\":\"#f2f5fa\"},\"marker\":{\"line\":{\"color\":\"rgb(17,17,17)\",\"width\":0.5},\"pattern\":{\"fillmode\":\"overlay\",\"size\":10,\"solidity\":0.2}},\"type\":\"bar\"}],\"scattergeo\":[{\"type\":\"scattergeo\",\"marker\":{\"colorbar\":{\"outlinewidth\":0,\"ticks\":\"\"}}}],\"scatterpolar\":[{\"type\":\"scatterpolar\",\"marker\":{\"colorbar\":{\"outlinewidth\":0,\"ticks\":\"\"}}}],\"histogram\":[{\"marker\":{\"pattern\":{\"fillmode\":\"overlay\",\"size\":10,\"solidity\":0.2}},\"type\":\"histogram\"}],\"scattergl\":[{\"marker\":{\"line\":{\"color\":\"#283442\"}},\"type\":\"scattergl\"}],\"scatter3d\":[{\"type\":\"scatter3d\",\"line\":{\"colorbar\":{\"outlinewidth\":0,\"ticks\":\"\"}},\"marker\":{\"colorbar\":{\"outlinewidth\":0,\"ticks\":\"\"}}}],\"scattermapbox\":[{\"type\":\"scattermapbox\",\"marker\":{\"colorbar\":{\"outlinewidth\":0,\"ticks\":\"\"}}}],\"scatterternary\":[{\"type\":\"scatterternary\",\"marker\":{\"colorbar\":{\"outlinewidth\":0,\"ticks\":\"\"}}}],\"scattercarpet\":[{\"type\":\"scattercarpet\",\"marker\":{\"colorbar\":{\"outlinewidth\":0,\"ticks\":\"\"}}}],\"carpet\":[{\"aaxis\":{\"endlinecolor\":\"#A2B1C6\",\"gridcolor\":\"#506784\",\"linecolor\":\"#506784\",\"minorgridcolor\":\"#506784\",\"startlinecolor\":\"#A2B1C6\"},\"baxis\":{\"endlinecolor\":\"#A2B1C6\",\"gridcolor\":\"#506784\",\"linecolor\":\"#506784\",\"minorgridcolor\":\"#506784\",\"startlinecolor\":\"#A2B1C6\"},\"type\":\"carpet\"}],\"table\":[{\"cells\":{\"fill\":{\"color\":\"#506784\"},\"line\":{\"color\":\"rgb(17,17,17)\"}},\"header\":{\"fill\":{\"color\":\"#2a3f5f\"},\"line\":{\"color\":\"rgb(17,17,17)\"}},\"type\":\"table\"}],\"barpolar\":[{\"marker\":{\"line\":{\"color\":\"rgb(17,17,17)\",\"width\":0.5},\"pattern\":{\"fillmode\":\"overlay\",\"size\":10,\"solidity\":0.2}},\"type\":\"barpolar\"}],\"pie\":[{\"automargin\":true,\"type\":\"pie\"}]},\"layout\":{\"autotypenumbers\":\"strict\",\"colorway\":[\"#636efa\",\"#EF553B\",\"#00cc96\",\"#ab63fa\",\"#FFA15A\",\"#19d3f3\",\"#FF6692\",\"#B6E880\",\"#FF97FF\",\"#FECB52\"],\"font\":{\"color\":\"#f2f5fa\"},\"hovermode\":\"closest\",\"hoverlabel\":{\"align\":\"left\"},\"paper_bgcolor\":\"rgb(17,17,17)\",\"plot_bgcolor\":\"rgb(17,17,17)\",\"polar\":{\"bgcolor\":\"rgb(17,17,17)\",\"angularaxis\":{\"gridcolor\":\"#506784\",\"linecolor\":\"#506784\",\"ticks\":\"\"},\"radialaxis\":{\"gridcolor\":\"#506784\",\"linecolor\":\"#506784\",\"ticks\":\"\"}},\"ternary\":{\"bgcolor\":\"rgb(17,17,17)\",\"aaxis\":{\"gridcolor\":\"#506784\",\"linecolor\":\"#506784\",\"ticks\":\"\"},\"baxis\":{\"gridcolor\":\"#506784\",\"linecolor\":\"#506784\",\"ticks\":\"\"},\"caxis\":{\"gridcolor\":\"#506784\",\"linecolor\":\"#506784\",\"ticks\":\"\"}},\"coloraxis\":{\"colorbar\":{\"outlinewidth\":0,\"ticks\":\"\"}},\"colorscale\":{\"sequential\":[[0.0,\"#0d0887\"],[0.1111111111111111,\"#46039f\"],[0.2222222222222222,\"#7201a8\"],[0.3333333333333333,\"#9c179e\"],[0.4444444444444444,\"#bd3786\"],[0.5555555555555556,\"#d8576b\"],[0.6666666666666666,\"#ed7953\"],[0.7777777777777778,\"#fb9f3a\"],[0.8888888888888888,\"#fdca26\"],[1.0,\"#f0f921\"]],\"sequentialminus\":[[0.0,\"#0d0887\"],[0.1111111111111111,\"#46039f\"],[0.2222222222222222,\"#7201a8\"],[0.3333333333333333,\"#9c179e\"],[0.4444444444444444,\"#bd3786\"],[0.5555555555555556,\"#d8576b\"],[0.6666666666666666,\"#ed7953\"],[0.7777777777777778,\"#fb9f3a\"],[0.8888888888888888,\"#fdca26\"],[1.0,\"#f0f921\"]],\"diverging\":[[0,\"#8e0152\"],[0.1,\"#c51b7d\"],[0.2,\"#de77ae\"],[0.3,\"#f1b6da\"],[0.4,\"#fde0ef\"],[0.5,\"#f7f7f7\"],[0.6,\"#e6f5d0\"],[0.7,\"#b8e186\"],[0.8,\"#7fbc41\"],[0.9,\"#4d9221\"],[1,\"#276419\"]]},\"xaxis\":{\"gridcolor\":\"#283442\",\"linecolor\":\"#506784\",\"ticks\":\"\",\"title\":{\"standoff\":15},\"zerolinecolor\":\"#283442\",\"automargin\":true,\"zerolinewidth\":2},\"yaxis\":{\"gridcolor\":\"#283442\",\"linecolor\":\"#506784\",\"ticks\":\"\",\"title\":{\"standoff\":15},\"zerolinecolor\":\"#283442\",\"automargin\":true,\"zerolinewidth\":2},\"scene\":{\"xaxis\":{\"backgroundcolor\":\"rgb(17,17,17)\",\"gridcolor\":\"#506784\",\"linecolor\":\"#506784\",\"showbackground\":true,\"ticks\":\"\",\"zerolinecolor\":\"#C8D4E3\",\"gridwidth\":2},\"yaxis\":{\"backgroundcolor\":\"rgb(17,17,17)\",\"gridcolor\":\"#506784\",\"linecolor\":\"#506784\",\"showbackground\":true,\"ticks\":\"\",\"zerolinecolor\":\"#C8D4E3\",\"gridwidth\":2},\"zaxis\":{\"backgroundcolor\":\"rgb(17,17,17)\",\"gridcolor\":\"#506784\",\"linecolor\":\"#506784\",\"showbackground\":true,\"ticks\":\"\",\"zerolinecolor\":\"#C8D4E3\",\"gridwidth\":2}},\"shapedefaults\":{\"line\":{\"color\":\"#f2f5fa\"}},\"annotationdefaults\":{\"arrowcolor\":\"#f2f5fa\",\"arrowhead\":0,\"arrowwidth\":1},\"geo\":{\"bgcolor\":\"rgb(17,17,17)\",\"landcolor\":\"rgb(17,17,17)\",\"subunitcolor\":\"#506784\",\"showland\":true,\"showlakes\":true,\"lakecolor\":\"rgb(17,17,17)\"},\"title\":{\"x\":0.05},\"updatemenudefaults\":{\"bgcolor\":\"#506784\",\"borderwidth\":0},\"sliderdefaults\":{\"bgcolor\":\"#C8D4E3\",\"borderwidth\":1,\"bordercolor\":\"rgb(17,17,17)\",\"tickwidth\":0},\"mapbox\":{\"style\":\"dark\"}}},\"title\":{\"text\":\"\\u0420\\u0430\\u0441\\u043f\\u0440\\u0435\\u0434\\u0435\\u043b\\u0435\\u043d\\u0438\\u0435 \\u043a\\u043b\\u0430\\u0441\\u0441\\u043e\\u0432\"},\"xaxis\":{\"title\":{\"text\":\"\\u041a\\u043b\\u0430\\u0441\\u0441\"}},\"yaxis\":{\"title\":{\"text\":\"\\u041a\\u043e\\u043b\\u0438\\u0447\\u0435\\u0441\\u0442\\u0432\\u043e\"}}},                        {\"responsive\": true}                    ).then(function(){\n",
       "                            \n",
       "var gd = document.getElementById('2c304671-b87b-467a-a4c5-720254faed4e');\n",
       "var x = new MutationObserver(function (mutations, observer) {{\n",
       "        var display = window.getComputedStyle(gd).display;\n",
       "        if (!display || display === 'none') {{\n",
       "            console.log([gd, 'removed!']);\n",
       "            Plotly.purge(gd);\n",
       "            observer.disconnect();\n",
       "        }}\n",
       "}});\n",
       "\n",
       "// Listen for the removal of the full notebook cells\n",
       "var notebookContainer = gd.closest('#notebook-container');\n",
       "if (notebookContainer) {{\n",
       "    x.observe(notebookContainer, {childList: true});\n",
       "}}\n",
       "\n",
       "// Listen for the clearing of the current output cell\n",
       "var outputEl = gd.closest('.output');\n",
       "if (outputEl) {{\n",
       "    x.observe(outputEl, {childList: true});\n",
       "}}\n",
       "\n",
       "                        })                };                });            </script>        </div>"
      ]
     },
     "metadata": {},
     "output_type": "display_data"
    }
   ],
   "execution_count": 23
  },
  {
   "cell_type": "markdown",
   "source": [],
   "metadata": {
    "collapsed": false
   },
   "id": "9653cb43c4563383"
  },
  {
   "cell_type": "code",
   "source": [
    "from sklearn.preprocessing import StandardScaler\n",
    "\n",
    "encoder = LabelEncoder()\n",
    "y_train = encoder.fit_transform(y_train)\n",
    "y_test = encoder.transform(y_test)\n",
    "scaler = StandardScaler()\n",
    "X_train_std = scaler.fit_transform(X_train)\n",
    "X_test_std = scaler.transform(X_test)"
   ],
   "metadata": {
    "collapsed": false,
    "ExecuteTime": {
     "end_time": "2024-11-28T19:18:11.081672Z",
     "start_time": "2024-11-28T19:18:11.072453Z"
    }
   },
   "id": "2ca285514c97666f",
   "outputs": [],
   "execution_count": 24
  },
  {
   "cell_type": "code",
   "source": [
    "from sklearn.metrics import accuracy_score, f1_score, classification_report\n",
    "\n",
    "\n",
    "def train_eval_model(model, X_train, X_test, y_train, y_test):\n",
    "    model.fit(X_train, y_train)\n",
    "    y_pred = model.predict(X_test)\n",
    "    accuracy = accuracy_score(y_test, y_pred)\n",
    "    f1 = f1_score(y_test, y_pred, average='micro')\n",
    "    return accuracy, f1"
   ],
   "metadata": {
    "collapsed": false,
    "ExecuteTime": {
     "end_time": "2024-11-28T19:18:11.198680Z",
     "start_time": "2024-11-28T19:18:11.194675Z"
    }
   },
   "id": "de7a8ed37a2a5203",
   "outputs": [],
   "execution_count": 25
  },
  {
   "cell_type": "code",
   "source": [
    "from sklearn.neighbors import KNeighborsClassifier\n",
    "from sklearn.linear_model import LogisticRegression\n",
    "from sklearn.svm import SVC\n",
    "from sklearn.naive_bayes import GaussianNB\n",
    "from catboost import CatBoostClassifier\n",
    "from sklearn.tree import DecisionTreeClassifier\n",
    "from sklearn.exceptions import ConvergenceWarning\n",
    "import warnings\n",
    "\n",
    "warnings.simplefilter('ignore', category=ConvergenceWarning)\n",
    "\n",
    "results = pd.DataFrame({'model_name': [], 'test_acc': [], 'test_f1': []})\n",
    "models = []\n",
    "for model in [KNeighborsClassifier(n_neighbors=3), SVC(), GaussianNB(),\n",
    "              DecisionTreeClassifier(), LogisticRegression(),\n",
    "              CatBoostClassifier(silent=True)]:\n",
    "    acc, f1 = train_eval_model(model, X_train_std, X_test_std, y_train, y_test)\n",
    "    models.append(model)\n",
    "    results.loc[len(results)] = [type(model).__name__, acc, f1]\n",
    "\n",
    "results"
   ],
   "metadata": {
    "collapsed": false,
    "ExecuteTime": {
     "end_time": "2024-11-28T19:20:59.727004Z",
     "start_time": "2024-11-28T19:20:56.354930Z"
    }
   },
   "id": "2a17540ac6964f61",
   "outputs": [
    {
     "data": {
      "text/plain": [
       "               model_name  test_acc   test_f1\n",
       "0    KNeighborsClassifier  0.263699  0.263699\n",
       "1                     SVC  0.287671  0.287671\n",
       "2              GaussianNB  0.226027  0.226027\n",
       "3  DecisionTreeClassifier  0.284247  0.284247\n",
       "4      LogisticRegression  0.291096  0.291096\n",
       "5      CatBoostClassifier  0.270548  0.270548"
      ],
      "text/html": [
       "<div>\n",
       "<style scoped>\n",
       "    .dataframe tbody tr th:only-of-type {\n",
       "        vertical-align: middle;\n",
       "    }\n",
       "\n",
       "    .dataframe tbody tr th {\n",
       "        vertical-align: top;\n",
       "    }\n",
       "\n",
       "    .dataframe thead th {\n",
       "        text-align: right;\n",
       "    }\n",
       "</style>\n",
       "<table border=\"1\" class=\"dataframe\">\n",
       "  <thead>\n",
       "    <tr style=\"text-align: right;\">\n",
       "      <th></th>\n",
       "      <th>model_name</th>\n",
       "      <th>test_acc</th>\n",
       "      <th>test_f1</th>\n",
       "    </tr>\n",
       "  </thead>\n",
       "  <tbody>\n",
       "    <tr>\n",
       "      <th>0</th>\n",
       "      <td>KNeighborsClassifier</td>\n",
       "      <td>0.263699</td>\n",
       "      <td>0.263699</td>\n",
       "    </tr>\n",
       "    <tr>\n",
       "      <th>1</th>\n",
       "      <td>SVC</td>\n",
       "      <td>0.287671</td>\n",
       "      <td>0.287671</td>\n",
       "    </tr>\n",
       "    <tr>\n",
       "      <th>2</th>\n",
       "      <td>GaussianNB</td>\n",
       "      <td>0.226027</td>\n",
       "      <td>0.226027</td>\n",
       "    </tr>\n",
       "    <tr>\n",
       "      <th>3</th>\n",
       "      <td>DecisionTreeClassifier</td>\n",
       "      <td>0.284247</td>\n",
       "      <td>0.284247</td>\n",
       "    </tr>\n",
       "    <tr>\n",
       "      <th>4</th>\n",
       "      <td>LogisticRegression</td>\n",
       "      <td>0.291096</td>\n",
       "      <td>0.291096</td>\n",
       "    </tr>\n",
       "    <tr>\n",
       "      <th>5</th>\n",
       "      <td>CatBoostClassifier</td>\n",
       "      <td>0.270548</td>\n",
       "      <td>0.270548</td>\n",
       "    </tr>\n",
       "  </tbody>\n",
       "</table>\n",
       "</div>"
      ]
     },
     "execution_count": 38,
     "metadata": {},
     "output_type": "execute_result"
    }
   ],
   "execution_count": 38
  },
  {
   "metadata": {
    "ExecuteTime": {
     "end_time": "2024-11-28T19:20:59.792779Z",
     "start_time": "2024-11-28T19:20:59.788700Z"
    }
   },
   "cell_type": "code",
   "source": [
    "from sklearn.model_selection import cross_validate\n",
    "\n",
    "\n",
    "def train_eval_model_cv(model, X_train, X_test, y_train, y_test):\n",
    "    cv = cross_validate(model, X_train, y_train, cv=3, return_estimator=True)\n",
    "    best_cv = cv['estimator'][\n",
    "        np.where(cv['test_score'] == max(cv['test_score']))[0][0]]\n",
    "    y_pred = best_cv.predict(X_test)\n",
    "    accuracy = accuracy_score(y_test, y_pred)\n",
    "    f1 = f1_score(y_test, y_pred, average='micro')\n",
    "    return accuracy, f1, best_cv"
   ],
   "id": "5335f0cfff85843b",
   "outputs": [],
   "execution_count": 39
  },
  {
   "metadata": {
    "ExecuteTime": {
     "end_time": "2024-11-28T19:21:09.201529Z",
     "start_time": "2024-11-28T19:20:59.835869Z"
    }
   },
   "cell_type": "code",
   "source": [
    "results_cv = pd.DataFrame({'model_name': [], 'test_acc': [], 'test_f1': []})\n",
    "models_cv = []\n",
    "for model in [KNeighborsClassifier(n_neighbors=3), SVC(), GaussianNB(),\n",
    "              DecisionTreeClassifier(), LogisticRegression(),\n",
    "              CatBoostClassifier(silent=True)]:\n",
    "    acc, f1, cv_model = train_eval_model_cv(model, X_train_std, X_test_std,\n",
    "                                            y_train, y_test)\n",
    "    models_cv.append(cv_model)\n",
    "    results_cv.loc[len(results_cv)] = [type(model).__name__, acc, f1]\n",
    "\n",
    "results_cv"
   ],
   "id": "3a122fdf9b001840",
   "outputs": [
    {
     "data": {
      "text/plain": [
       "               model_name  test_acc   test_f1\n",
       "0    KNeighborsClassifier  0.267123  0.267123\n",
       "1                     SVC  0.267123  0.267123\n",
       "2              GaussianNB  0.260274  0.260274\n",
       "3  DecisionTreeClassifier  0.280822  0.280822\n",
       "4      LogisticRegression  0.280822  0.280822\n",
       "5      CatBoostClassifier  0.229452  0.229452"
      ],
      "text/html": [
       "<div>\n",
       "<style scoped>\n",
       "    .dataframe tbody tr th:only-of-type {\n",
       "        vertical-align: middle;\n",
       "    }\n",
       "\n",
       "    .dataframe tbody tr th {\n",
       "        vertical-align: top;\n",
       "    }\n",
       "\n",
       "    .dataframe thead th {\n",
       "        text-align: right;\n",
       "    }\n",
       "</style>\n",
       "<table border=\"1\" class=\"dataframe\">\n",
       "  <thead>\n",
       "    <tr style=\"text-align: right;\">\n",
       "      <th></th>\n",
       "      <th>model_name</th>\n",
       "      <th>test_acc</th>\n",
       "      <th>test_f1</th>\n",
       "    </tr>\n",
       "  </thead>\n",
       "  <tbody>\n",
       "    <tr>\n",
       "      <th>0</th>\n",
       "      <td>KNeighborsClassifier</td>\n",
       "      <td>0.267123</td>\n",
       "      <td>0.267123</td>\n",
       "    </tr>\n",
       "    <tr>\n",
       "      <th>1</th>\n",
       "      <td>SVC</td>\n",
       "      <td>0.267123</td>\n",
       "      <td>0.267123</td>\n",
       "    </tr>\n",
       "    <tr>\n",
       "      <th>2</th>\n",
       "      <td>GaussianNB</td>\n",
       "      <td>0.260274</td>\n",
       "      <td>0.260274</td>\n",
       "    </tr>\n",
       "    <tr>\n",
       "      <th>3</th>\n",
       "      <td>DecisionTreeClassifier</td>\n",
       "      <td>0.280822</td>\n",
       "      <td>0.280822</td>\n",
       "    </tr>\n",
       "    <tr>\n",
       "      <th>4</th>\n",
       "      <td>LogisticRegression</td>\n",
       "      <td>0.280822</td>\n",
       "      <td>0.280822</td>\n",
       "    </tr>\n",
       "    <tr>\n",
       "      <th>5</th>\n",
       "      <td>CatBoostClassifier</td>\n",
       "      <td>0.229452</td>\n",
       "      <td>0.229452</td>\n",
       "    </tr>\n",
       "  </tbody>\n",
       "</table>\n",
       "</div>"
      ]
     },
     "execution_count": 40,
     "metadata": {},
     "output_type": "execute_result"
    }
   ],
   "execution_count": 40
  },
  {
   "metadata": {
    "ExecuteTime": {
     "end_time": "2024-11-28T19:21:10.175246Z",
     "start_time": "2024-11-28T19:21:10.168118Z"
    }
   },
   "cell_type": "code",
   "source": [
    "estimators = [(type(model).__name__, model) for model in models_cv]\n",
    "estimators"
   ],
   "id": "ca5d073e000c2c15",
   "outputs": [
    {
     "data": {
      "text/plain": [
       "[('KNeighborsClassifier', KNeighborsClassifier(n_neighbors=3)),\n",
       " ('SVC', SVC()),\n",
       " ('GaussianNB', GaussianNB()),\n",
       " ('DecisionTreeClassifier', DecisionTreeClassifier()),\n",
       " ('LogisticRegression', LogisticRegression()),\n",
       " ('CatBoostClassifier', <catboost.core.CatBoostClassifier at 0x222d31b2f50>)]"
      ]
     },
     "execution_count": 41,
     "metadata": {},
     "output_type": "execute_result"
    }
   ],
   "execution_count": 41
  },
  {
   "metadata": {
    "ExecuteTime": {
     "end_time": "2024-11-28T19:21:12.186764Z",
     "start_time": "2024-11-28T19:21:12.106677Z"
    }
   },
   "cell_type": "code",
   "source": [
    "from sklearn.ensemble import VotingClassifier\n",
    "\n",
    "eclf = VotingClassifier(\n",
    "    estimators=[(type(model).__name__, model) for model in models_cv][:-1],\n",
    "    voting='hard')\n",
    "eclf.fit(X_train_std, y_train)\n",
    "res_eclf = eclf.predict(X_test_std)"
   ],
   "id": "b72db5f7a00e4fb6",
   "outputs": [],
   "execution_count": 42
  },
  {
   "metadata": {
    "ExecuteTime": {
     "end_time": "2024-11-28T19:21:13.571619Z",
     "start_time": "2024-11-28T19:21:13.564869Z"
    }
   },
   "cell_type": "code",
   "source": [
    "accuracy = accuracy_score(y_test, res_eclf)\n",
    "f1 = f1_score(y_test, res_eclf, average='micro')\n",
    "accuracy, f1"
   ],
   "id": "ecf7d9b6e9cdd8ba",
   "outputs": [
    {
     "data": {
      "text/plain": [
       "(0.2671232876712329, 0.2671232876712329)"
      ]
     },
     "execution_count": 43,
     "metadata": {},
     "output_type": "execute_result"
    }
   ],
   "execution_count": 43
  },
  {
   "metadata": {
    "ExecuteTime": {
     "end_time": "2024-11-28T19:18:15.266341Z",
     "start_time": "2024-11-28T19:18:15.263173Z"
    }
   },
   "cell_type": "code",
   "source": "",
   "id": "d6f08f8f33be3085",
   "outputs": [],
   "execution_count": null
  }
 ],
 "metadata": {
  "kernelspec": {
   "display_name": "Python 3",
   "language": "python",
   "name": "python3"
  },
  "language_info": {
   "codemirror_mode": {
    "name": "ipython",
    "version": 2
   },
   "file_extension": ".py",
   "mimetype": "text/x-python",
   "name": "python",
   "nbconvert_exporter": "python",
   "pygments_lexer": "ipython2",
   "version": "2.7.6"
  }
 },
 "nbformat": 4,
 "nbformat_minor": 5
}
